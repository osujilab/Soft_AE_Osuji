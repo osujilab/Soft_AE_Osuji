{
 "cells": [
  {
   "cell_type": "code",
   "execution_count": null,
   "id": "650ad617",
   "metadata": {},
   "outputs": [],
   "source": [
    "#import packages"
   ]
  },
  {
   "cell_type": "code",
   "execution_count": null,
   "id": "10f7bbcf",
   "metadata": {},
   "outputs": [],
   "source": [
    "from cgi import test\n",
    "from optparse import Values\n",
    "from sqlite3 import Row\n",
    "from time import time\n",
    "import tkinter as tk\n",
    "from turtle import width\n",
    "import pyvisa\n",
    "import time \n",
    "# import keyboard\n",
    "import time\n",
    "import cv2\n",
    "from PIL import Image, ImageTk\n",
    "from webbrowser import get\n",
    "import numpy as np\n",
    "import datetime as dt\n",
    "import matplotlib.pyplot as plt\n",
    "import matplotlib.animation as animation\n",
    "from matplotlib.backends.backend_tkagg import FigureCanvasTkAgg\n",
    "from matplotlib.figure import Figure\n",
    "import threading as th\n",
    "import minimalmodbus\n",
    "from skopt import Optimizer\n",
    "from skopt.plots import plot_objective\n",
    "from skopt.plots import plot_evaluations\n",
    "# from simple_pid import PID\n",
    "import os"
   ]
  },
  {
   "cell_type": "code",
   "execution_count": null,
   "id": "e54849e8",
   "metadata": {},
   "outputs": [],
   "source": [
    "#connecting to devices \n",
    "rm = pyvisa.ResourceManager()\n",
    "#rm = pyvisa.ResourceManager()"
   ]
  },
  {
   "cell_type": "code",
   "execution_count": null,
   "id": "d373f10a",
   "metadata": {},
   "outputs": [],
   "source": [
    "#ASRL7 = Linear Stage\n",
    "com_pxpy = rm.open_resource('ASRL7::INSTR')\n",
    "com_pxpy.baud_rate = 921600 #fixed\n",
    "\n",
    "com_pxpy.write('1MO')\n",
    "com_pxpy.write('2MO')\n",
    "\n",
    "#syringe pump\n",
    "com_syr = rm.open_resource('ASRL4::INSTR')\n",
    "# com_syr.baud_rate = 115200"
   ]
  },
  {
   "cell_type": "code",
   "execution_count": null,
   "id": "47c360e7",
   "metadata": {},
   "outputs": [],
   "source": [
    "#Reset acceleration, velocities, position\n",
    "\n",
    "#acceleration\n",
    "com_pxpy.write('1HA'+str(1))\n",
    "com_pxpy.write('2HA'+str(1))\n",
    "\n",
    "#group velocity\n",
    "com_pxpy.write('1HV'+str(1))\n",
    "com_pxpy.write('2HV'+str(1))\n",
    "\n",
    "#velocity #actually impacts experiments\n",
    "com_pxpy.write('1VA'+str(10))\n",
    "com_pxpy.write('2VA'+str(10))\n",
    "\n",
    "#position\n",
    "com_pxpy.write('1PA'+str(0))\n",
    "com_pxpy.write('2PA'+str(0))"
   ]
  },
  {
   "cell_type": "code",
   "execution_count": null,
   "id": "bc1cd630",
   "metadata": {},
   "outputs": [],
   "source": [
    "#check position\n",
    "live_position_x_t = com_pxpy.query_ascii_values('1TP?')\n",
    "live_position_x = ''.join(str(element) for element in live_position_x_t)\n",
    "live_position_y_t = com_pxpy.query_ascii_values('2TP?')\n",
    "live_position_y = ''.join(str(element) for element in live_position_y_t)\n",
    "print(live_position_x)\n",
    "print(live_position_y)"
   ]
  },
  {
   "cell_type": "code",
   "execution_count": null,
   "id": "676ebc3b",
   "metadata": {},
   "outputs": [],
   "source": [
    "#Defining an operation that executes the pumping procedure\n",
    "def single_pump(sy_dia, res_vol, ID, rate, dispense_vol):\n",
    "    #sy_dia = 12.03 \n",
    "    #ID = 0, 1, 2 (pump number)\n",
    "    #res_vol = reservoir volume in ml\n",
    "    #rate = pump rate in ul/min\n",
    "    #sample_vol = volume to be pumped at defined rate\n",
    "\n",
    "    com_syr.write(str(ID) + 'svolume ' + str(res_vol) + ' ml')\n",
    "    time.sleep(0.1)\n",
    "\n",
    "    com_syr.write(str(ID) + 'diameter ' + str(float(sy_dia)))\n",
    "    time.sleep(0.1)\n",
    "\n",
    "    com_syr.write(str(ID) + 'irate ' + str(float(rate)) + ' ul/min')\n",
    "    time.sleep(0.1)\n",
    "\n",
    "    com_syr.write(str(ID) + 'tvolume ' + str(float(dispense_vol)) + ' ul')\n",
    "    time.sleep(0.1)\n",
    "\n",
    "    com_syr.write(str(ID) + 'irun')"
   ]
  },
  {
   "cell_type": "code",
   "execution_count": null,
   "id": "051004ff",
   "metadata": {},
   "outputs": [],
   "source": [
    "#Initializing deposition process\n",
    "space = s = 10 #spacing of deposition steps\n",
    "\n",
    "position_x = [0*s,1*s,2*s,\n",
    "              0*s,1*s,2*s]\n",
    "position_y = [0*s,0*s,0*s,\n",
    "              1*s,1*s,1*s]"
   ]
  },
  {
   "cell_type": "code",
   "execution_count": null,
   "id": "179ed12f",
   "metadata": {},
   "outputs": [],
   "source": [
    "#fixed parameters\n",
    "sy_dia = 12.03\n",
    "\n",
    "#changed parameters\n",
    "res_vol = 0.4 #mL #same for 1,2 \n",
    "\n",
    "rate_0 = Q = 10 #uL/min\n",
    "#rate_1 = [0.1*Q, Q, 10*Q]\n",
    "rate_1 = Q\n",
    "\n",
    "dispense_vol_0 = 10\n",
    "dispense_vol_1 = 10\n",
    "    #dispense_vol_1 = np.empty(len(rate_1))\n",
    "    #for i in range(len(rate_1)):\n",
    "    #    dispense_vol_1[i] = dispense_vol_0*(rate_1[i]/rate_0)\n",
    "\n",
    "t = (dispense_vol_0/Q) * 60"
   ]
  },
  {
   "cell_type": "code",
   "execution_count": null,
   "id": "52176434",
   "metadata": {},
   "outputs": [],
   "source": [
    "#\"unlooped\"\n",
    "single_pump(sy_dia, res_vol, 0, rate_0, dispense_vol_0)\n",
    "single_pump(sy_dia, res_vol, 1, rate_1, dispense_vol_1)\n",
    "time.sleep(t)"
   ]
  },
  {
   "cell_type": "code",
   "execution_count": null,
   "id": "263ac0ec",
   "metadata": {},
   "outputs": [],
   "source": [
    "for i in range(len(rate_1)): \n",
    "    #com_pxpy.write('1PA'+str(position_x[i]))\n",
    "    #com_pxpy.write('2PA'+str(position_y[i]))\n",
    "    #single_pump(sy_dia, res_vol, 0, rate_0, dispense_vol_0)\n",
    "    #single_pump(sy_dia, res_vol, 1, rate_1[i], dispense_vol_1[i])\n",
    "    print(position_x[i],position_y[i])\n",
    "    time.sleep(2)\n",
    "    \n",
    "    #add camera\n",
    "    "
   ]
  },
  {
   "cell_type": "code",
   "execution_count": null,
   "id": "3960285b",
   "metadata": {},
   "outputs": [],
   "source": []
  }
 ],
 "metadata": {
  "kernelspec": {
   "display_name": "Python 3 (ipykernel)",
   "language": "python",
   "name": "python3"
  },
  "language_info": {
   "codemirror_mode": {
    "name": "ipython",
    "version": 3
   },
   "file_extension": ".py",
   "mimetype": "text/x-python",
   "name": "python",
   "nbconvert_exporter": "python",
   "pygments_lexer": "ipython3",
   "version": "3.11.3"
  }
 },
 "nbformat": 4,
 "nbformat_minor": 5
}
