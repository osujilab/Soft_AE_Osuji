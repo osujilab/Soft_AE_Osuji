{
 "cells": [
  {
   "cell_type": "code",
   "execution_count": null,
   "id": "ec4156e4",
   "metadata": {},
   "outputs": [],
   "source": [
    "#import packages"
   ]
  },
  {
   "cell_type": "code",
   "execution_count": null,
   "id": "ef16cddf",
   "metadata": {},
   "outputs": [],
   "source": [
    "from cgi import test\n",
    "from optparse import Values\n",
    "from sqlite3 import Row\n",
    "from time import time\n",
    "import tkinter as tk\n",
    "from turtle import width\n",
    "import pyvisa\n",
    "import time \n",
    "# import keyboard\n",
    "import time\n",
    "import cv2\n",
    "from PIL import Image, ImageTk\n",
    "from webbrowser import get\n",
    "import numpy as np\n",
    "import datetime as dt\n",
    "import matplotlib.pyplot as plt\n",
    "import matplotlib.animation as animation\n",
    "from matplotlib.backends.backend_tkagg import FigureCanvasTkAgg\n",
    "from matplotlib.figure import Figure\n",
    "import threading as th\n",
    "import minimalmodbus\n",
    "from skopt import Optimizer\n",
    "from skopt.plots import plot_objective\n",
    "from skopt.plots import plot_evaluations\n",
    "# from simple_pid import PID\n",
    "import os"
   ]
  },
  {
   "cell_type": "code",
   "execution_count": null,
   "id": "0c4e0455",
   "metadata": {},
   "outputs": [],
   "source": [
    "#connecting to devices "
   ]
  },
  {
   "cell_type": "code",
   "execution_count": null,
   "id": "61a37c22",
   "metadata": {},
   "outputs": [],
   "source": [
    "rm = pyvisa.ResourceManager()"
   ]
  },
  {
   "cell_type": "code",
   "execution_count": null,
   "id": "a8448afe",
   "metadata": {},
   "outputs": [],
   "source": [
    "print(rm.list_resources()) "
   ]
  },
  {
   "cell_type": "code",
   "execution_count": null,
   "id": "b28c9ddc",
   "metadata": {},
   "outputs": [],
   "source": [
    "#ASRL7 = Linear Stage\n",
    "com_pxpy = rm.open_resource('ASRL7::INSTR')\n",
    "com_pxpy.baud_rate = 921600 #fixed"
   ]
  },
  {
   "cell_type": "code",
   "execution_count": null,
   "id": "6b1ca61f",
   "metadata": {},
   "outputs": [],
   "source": [
    "#syringe pump\n",
    "com_syr = rm.open_resource('ASRL4::INSTR')\n",
    "# com_syr.baud_rate = 115200"
   ]
  },
  {
   "cell_type": "code",
   "execution_count": null,
   "id": "a7d39b63",
   "metadata": {},
   "outputs": [],
   "source": [
    "#temperature control\n",
    "#com_hot = minimalmodbus.Instrument('com17', 1, minimalmodbus.MODE_RTU)\n",
    "#com_hot.serial.baudrate = 115200"
   ]
  },
  {
   "cell_type": "code",
   "execution_count": null,
   "id": "b18a7d5a",
   "metadata": {},
   "outputs": [],
   "source": [
    "#Turns on Motion Controller\n",
    "com_pxpy.write('1MO')\n",
    "com_pxpy.write('2MO')\n",
    "\n",
    "#moving to different positions from live positions ##PR moves from relative position\n",
    "#com_pxpy.write('1PA'+position_x)\n",
    "#com_pxpy.write('2PA'+position_y)"
   ]
  },
  {
   "cell_type": "code",
   "execution_count": null,
   "id": "ec0890b8",
   "metadata": {},
   "outputs": [],
   "source": [
    "#we are choosing to make flush our 0 for syringe + camera ref "
   ]
  },
  {
   "cell_type": "code",
   "execution_count": null,
   "id": "f77d1a34",
   "metadata": {},
   "outputs": [],
   "source": [
    "#Identify current position and print\n",
    "live_position_x_t = com_pxpy.query_ascii_values('1TP?')\n",
    "live_position_x = ''.join(str(element) for element in live_position_x_t)\n",
    "live_position_y_t = com_pxpy.query_ascii_values('2TP?')\n",
    "live_position_y = ''.join(str(element) for element in live_position_y_t)\n",
    "print('(x,y):')\n",
    "print(live_position_x, live_position_y)"
   ]
  },
  {
   "cell_type": "code",
   "execution_count": null,
   "id": "6d15217a",
   "metadata": {},
   "outputs": [],
   "source": [
    "def move_to(position_x, position_y):\n",
    "    position_x = str(position_x)\n",
    "    position_y = str(position_y)\n",
    "    com_pxpy.write('1PA'+position_x)\n",
    "    time.sleep(0.1)              \n",
    "    com_pxpy.write('2PA'+position_y)\n",
    "    time.sleep(0.1)"
   ]
  },
  {
   "cell_type": "code",
   "execution_count": null,
   "id": "a8e336f9",
   "metadata": {},
   "outputs": [],
   "source": [
    "#align flush to camera\n",
    "#Identify Camera Position\n",
    "#I guess we should move to the camera and then run this command ??\n",
    "move_to(-40,0) #locate camera "
   ]
  },
  {
   "cell_type": "code",
   "execution_count": null,
   "id": "15f223d8",
   "metadata": {},
   "outputs": [],
   "source": [
    "camera_position_x = com_pxpy.query_ascii_values('1TP?')\n",
    "camera_position_x = ''.join(str(element) for element in camera_position_x)\n",
    "camera_position_y = com_pxpy.query_ascii_values('2TP?')\n",
    "camera_position_y = ''.join(str(element) for element in camera_position_y)\n",
    "print(camera_position_x,camera_position_y)"
   ]
  },
  {
   "cell_type": "code",
   "execution_count": null,
   "id": "483e2ac8",
   "metadata": {},
   "outputs": [],
   "source": [
    "#align flush to syringe\n",
    "#Identify Syringe Position\n",
    "move_to(0,0) # locate syringe position"
   ]
  },
  {
   "cell_type": "code",
   "execution_count": null,
   "id": "59b5a220",
   "metadata": {},
   "outputs": [],
   "source": [
    "syringe_position_x = com_pxpy.query_ascii_values('1TP?')\n",
    "syringe_position_x = ''.join(str(element) for element in syringe_position_x)\n",
    "syringe_position_y = com_pxpy.query_ascii_values('2TP?')\n",
    "syringe_position_y = ''.join(str(element) for element in syringe_position_y)\n",
    "print(syringe_position_x,syringe_position_y)"
   ]
  },
  {
   "cell_type": "code",
   "execution_count": null,
   "id": "37ddce2f",
   "metadata": {},
   "outputs": [],
   "source": [
    "def capture_and_save_image(image_name):\n",
    "    save_path = \"directory_name_here\"  # Specify the directory\n",
    "    \n",
    "    cap = cv2.VideoCapture(0)\n",
    "      # Capture frame from the camera\n",
    "    ret, frame = cap.read()\n",
    "     # Save the captured frame with the specified name\n",
    "    image_path = f\"{save_path}/{image_name}.jpg\"\n",
    "    cv2.imwrite(image_path, frame)\n",
    "    # Release the camera\n",
    "    cap.release()\n"
   ]
  },
  {
   "cell_type": "code",
   "execution_count": null,
   "id": "bc3d4a32",
   "metadata": {},
   "outputs": [],
   "source": [
    "#Identify Flush Position\n",
    "#move to the camera and then run this command\n",
    "#move_to(,) # locate flush"
   ]
  },
  {
   "cell_type": "code",
   "execution_count": null,
   "id": "5ece6007",
   "metadata": {},
   "outputs": [],
   "source": [
    "#flush_position_x = com_pxpy.query_ascii_values('1TP?')\n",
    "#flush_position_x = ''.join(str(element) for element in flush_position_x)\n",
    "#flush_position_y = com_pxpy.query_ascii_values('2TP?')\n",
    "#flush_position_y = ''.join(str(element) for element in flush_position_y)"
   ]
  },
  {
   "cell_type": "code",
   "execution_count": null,
   "id": "49c40942",
   "metadata": {},
   "outputs": [],
   "source": [
    "#Initialize Syringe Parameters\n",
    "sy_dia = 10.3 #mm #Hamilton 81520\n",
    "\n",
    "res_vol = 4 #mL #same for 1,2 "
   ]
  },
  {
   "cell_type": "code",
   "execution_count": null,
   "id": "753f6ee2",
   "metadata": {},
   "outputs": [],
   "source": [
    "#Defining an operation that executes the pumping procedure\n",
    "def single_pump(sy_dia, res_vol, ID, rate, dispense_vol):\n",
    "    #sy_dia = 12.03\n",
    "\n",
    "    #ID = 0, 1, 2 (pump number)\n",
    "    #res_vol = reservoir volume in ml (usually ~5), usually integer\n",
    "    #sy_dia = diameter of syrine, current config has sy_dia = 12.03\n",
    "    #rate = pump rate in ul/min (format: xx.x) - float, 1 decimal place\n",
    "    #sample_vol = volume to be pumped at defined rate (format: xxx.x) - float, 1 decimal place\n",
    "\n",
    "    com_syr.write(str(ID) + 'svolume ' + str(res_vol) + ' ml')\n",
    "    time.sleep(0.1)\n",
    "\n",
    "    com_syr.write(str(ID) + 'diameter ' + str(float(sy_dia)))\n",
    "    time.sleep(0.1)\n",
    "\n",
    "    com_syr.write(str(ID) + 'irate ' + str(float(rate)) + ' ul/min')\n",
    "    time.sleep(0.1)\n",
    "\n",
    "    com_syr.write(str(ID) + 'tvolume ' + str(float(dispense_vol)) + ' ul')\n",
    "    time.sleep(0.1)\n",
    "\n",
    "    com_syr.write(str(ID) + 'irun')"
   ]
  },
  {
   "cell_type": "code",
   "execution_count": null,
   "id": "059b0c24",
   "metadata": {},
   "outputs": [],
   "source": [
    "#Flush out the piping for a fresh dropcast\n",
    "def flush(flush_volume_0, flush_volume_1, flush_time): #flushes syringe 1 & 2\n",
    "    #minki made flush_time = 3*flush_volume (around 20s)\n",
    "    \n",
    "    \n",
    "    rate_flush_0 = 60 * (flush_volume_0 / flush_time)\n",
    "    rate_flush_1 = 60 * (flush_volume_1 / flush_time)\n",
    "    \n",
    "    #flush sample\n",
    "    single_pump(sy_dia, res_vol, 0, rate_flush_0, flush_volume_0)\n",
    "    time.sleep(0.1)\n",
    "\n",
    "    single_pump(sy_dia, res_vol, 1, rate_flush_1, flush_volume_1)\n",
    "    time.sleep(0.1)"
   ]
  },
  {
   "cell_type": "code",
   "execution_count": null,
   "id": "6c92943a",
   "metadata": {},
   "outputs": [],
   "source": [
    "#Initial flsh through pipes\n",
    "move_to(syringe_position_x,syringe_position_y)\n",
    "time.sleep(0.2)\n",
    "flush(V_flush_initial, V_flush_initial, 30) #is time good?\n",
    "time.sleep(0.2)"
   ]
  },
  {
   "cell_type": "code",
   "execution_count": null,
   "id": "3199c804",
   "metadata": {},
   "outputs": [],
   "source": []
  },
  {
   "cell_type": "code",
   "execution_count": null,
   "id": "35fddc80",
   "metadata": {},
   "outputs": [],
   "source": [
    "L_pipes = 400 #mm\n",
    "V_flush_mL = 0.495 * L_pipes * 0.001 #mL #1/16 system\n",
    "V_flush_uL = V_flush_mL * 1000\n",
    "\n",
    "V_flush_initial = V_flush_uL + 10  \n",
    "\n",
    "V_mixing_chamber = 0.57 #uL\n",
    "V_0_flush = V_1_f = 3 * V_mixing_chamber #uL\n",
    "V_1_flush = V_2_f = 3 * V_mixing_chamber #uL\n",
    "\n",
    "flush_time = f_t = 20 #s\n",
    "wait_flush = 240 #s"
   ]
  },
  {
   "cell_type": "code",
   "execution_count": null,
   "id": "e6c64a72",
   "metadata": {},
   "outputs": [],
   "source": [
    "V_flush_initial"
   ]
  },
  {
   "cell_type": "code",
   "execution_count": null,
   "id": "651140eb",
   "metadata": {},
   "outputs": [],
   "source": [
    "#flow and droplet parameters \n",
    "\n",
    "dispense_time = t_d = 60 #s\n",
    "\n",
    "total_dispense_vol = V_d = 10 #uL\n",
    "\n",
    "Q_d = V_d/t_d #mL/min\n",
    "\n",
    "evaporation_time = e_t = 10 #=  18000 #s\n",
    "sample_distance = 20 #mm #center-center distance of droplets\n",
    "flush_d = 30 #flush to sample 0-0 distance\n",
    "\n",
    "#(figure the positioning out)^^"
   ]
  },
  {
   "cell_type": "code",
   "execution_count": null,
   "id": "9bd519c7",
   "metadata": {},
   "outputs": [],
   "source": [
    "#AE parameters \n",
    "file_path = \"image\"\n",
    "#max_iteration = 10\n",
    "#p = [0.5]\n",
    "\n",
    "#p = [0,0.2,0.4,0.6,0.8,1] # 6 percentages\n",
    "\n",
    "p = [.4,.5,.6,.7]\n",
    "#T = []"
   ]
  },
  {
   "cell_type": "code",
   "execution_count": null,
   "id": "1dff6505",
   "metadata": {},
   "outputs": [],
   "source": [
    "#Dropcasting Loop\n",
    "for i in range(4):\n",
    "    print(f'iteration {i+1}')\n",
    "    time.sleep(0.2)\n",
    "    \n",
    "    #move to flush position\n",
    "    print('flushing')\n",
    "    move_to(syringe_position_x,syringe_position_y)\n",
    "    time.sleep(0.2)\n",
    "    flush(V_0_flush, V_1_flush, flush_time)\n",
    "    time.sleep(0.2)\n",
    "    time.sleep(10)\n",
    "    \n",
    "    #find location of each droplet in iteration\n",
    "    n = 2 #number of droplets per row\n",
    "    a, b = divmod(i,n)\n",
    "    print(a,b)\n",
    "    \n",
    "    #flush is to the right\n",
    "    position_x = str(float(syringe_position_x)-(sample_distance*int(b))-flush_d)\n",
    "    position_y = str(float(syringe_position_y)-(sample_distance*int(a)))\n",
    "    print(f'droplet center:{position_x,position_y}')\n",
    "   \n",
    "    #Here p (ratio) should change with optimization\n",
    "    V_0 = p[i] * V_d\n",
    "    V_1 = (1-p[i]) * V_d \n",
    "\n",
    "    Q_0 = 60 * (V_0/t_d)\n",
    "    Q_1 = 60 * (V_1/t_d)\n",
    "    \n",
    "    print(f'droplet volume:{V_0,V_1}')\n",
    "    \n",
    "    #move droplet i location to syringe and start experiment\n",
    "    move_to(position_x,position_y)\n",
    "    single_pump(sy_dia, res_vol, 0, Q_0, V_0)\n",
    "    time.sleep(0.2)\n",
    "    single_pump(sy_dia, res_vol, 1, Q_1, V_1)\n",
    "    time.sleep(0.2)\n",
    "    \n",
    "    #allow droplet evaporation \n",
    "    time.sleep(e_t)\n",
    "    \n",
    "    time.sleep(10)\n",
    "    \n",
    "    #move to camera and image\n",
    "    position_x = str(float(camera_position_x)-(sample_distance*int(b))-flush_d)\n",
    "    position_y = str(float(camera_position_y)+(sample_distance*int(a)))\n",
    "    move_to(position_x,position_y)\n",
    "    time.sleep(0.2)\n",
    "    time.sleep(10)\n",
    "    #capture_and_save_image(i)\n",
    "    time.sleep(0.2)\n",
    "    \n",
    "    #image processing\n",
    "    \n",
    "    #optimization \n",
    "    print('end of loop')"
   ]
  },
  {
   "cell_type": "code",
   "execution_count": null,
   "id": "402131b7",
   "metadata": {},
   "outputs": [],
   "source": [
    "position_x = str(float(syringe_position_x)-(0)-flush_d)\n",
    "position_y = str(float(syringe_position_y)+(1))\n",
    "    \n",
    "    #move droplet i location to syringe and start experiment\n",
    "move_to(position_x,position_y)"
   ]
  },
  {
   "cell_type": "code",
   "execution_count": null,
   "id": "6d45b357",
   "metadata": {},
   "outputs": [],
   "source": []
  }
 ],
 "metadata": {
  "kernelspec": {
   "display_name": "Python 3 (ipykernel)",
   "language": "python",
   "name": "python3"
  },
  "language_info": {
   "codemirror_mode": {
    "name": "ipython",
    "version": 3
   },
   "file_extension": ".py",
   "mimetype": "text/x-python",
   "name": "python",
   "nbconvert_exporter": "python",
   "pygments_lexer": "ipython3",
   "version": "3.11.3"
  }
 },
 "nbformat": 4,
 "nbformat_minor": 5
}
