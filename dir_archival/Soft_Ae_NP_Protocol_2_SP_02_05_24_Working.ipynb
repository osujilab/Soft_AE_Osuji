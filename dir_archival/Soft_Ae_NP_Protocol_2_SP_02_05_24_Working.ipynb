{
 "cells": [
  {
   "cell_type": "code",
   "execution_count": 1,
   "id": "ec4156e4",
   "metadata": {},
   "outputs": [],
   "source": [
    "#import packages"
   ]
  },
  {
   "cell_type": "code",
   "execution_count": 2,
   "id": "ef16cddf",
   "metadata": {},
   "outputs": [
    {
     "name": "stderr",
     "output_type": "stream",
     "text": [
      "C:\\Users\\Osuji\\AppData\\Local\\Temp\\ipykernel_10892\\4243695268.py:1: DeprecationWarning: 'cgi' is deprecated and slated for removal in Python 3.13\n",
      "  from cgi import test\n"
     ]
    }
   ],
   "source": [
    "from cgi import test\n",
    "from optparse import Values\n",
    "from sqlite3 import Row\n",
    "from time import time\n",
    "import tkinter as tk\n",
    "from turtle import width\n",
    "import pyvisa\n",
    "import time \n",
    "# import keyboard\n",
    "import time\n",
    "import cv2\n",
    "from PIL import Image, ImageTk\n",
    "from webbrowser import get\n",
    "import numpy as np\n",
    "import datetime as dt\n",
    "import matplotlib.pyplot as plt\n",
    "import matplotlib.animation as animation\n",
    "from matplotlib.backends.backend_tkagg import FigureCanvasTkAgg\n",
    "from matplotlib.figure import Figure\n",
    "import threading as th\n",
    "import minimalmodbus\n",
    "from skopt import Optimizer\n",
    "from skopt.plots import plot_objective\n",
    "from skopt.plots import plot_evaluations\n",
    "# from simple_pid import PID\n",
    "import os"
   ]
  },
  {
   "cell_type": "code",
   "execution_count": 3,
   "id": "0c4e0455",
   "metadata": {},
   "outputs": [],
   "source": [
    "#connecting to devices "
   ]
  },
  {
   "cell_type": "code",
   "execution_count": 4,
   "id": "61a37c22",
   "metadata": {},
   "outputs": [],
   "source": [
    "rm = pyvisa.ResourceManager()"
   ]
  },
  {
   "cell_type": "code",
   "execution_count": 5,
   "id": "a8448afe",
   "metadata": {},
   "outputs": [
    {
     "name": "stdout",
     "output_type": "stream",
     "text": [
      "('ASRL1::INSTR', 'ASRL6::INSTR', 'ASRL7::INSTR', 'ASRL13::INSTR', 'ASRL18::INSTR')\n"
     ]
    }
   ],
   "source": [
    "print(rm.list_resources()) "
   ]
  },
  {
   "cell_type": "code",
   "execution_count": 6,
   "id": "b28c9ddc",
   "metadata": {},
   "outputs": [],
   "source": [
    "#ASRL7 = Linear Stage\n",
    "com_pxpy = rm.open_resource('ASRL7::INSTR')\n",
    "com_pxpy.baud_rate = 921600 #fixed"
   ]
  },
  {
   "cell_type": "code",
   "execution_count": 7,
   "id": "6b1ca61f",
   "metadata": {},
   "outputs": [
    {
     "ename": "VisaIOError",
     "evalue": "VI_ERROR_RSRC_NFOUND (-1073807343): Insufficient location information or the requested device or resource is not present in the system.",
     "output_type": "error",
     "traceback": [
      "\u001b[1;31m---------------------------------------------------------------------------\u001b[0m",
      "\u001b[1;31mVisaIOError\u001b[0m                               Traceback (most recent call last)",
      "Cell \u001b[1;32mIn[7], line 2\u001b[0m\n\u001b[0;32m      1\u001b[0m \u001b[38;5;66;03m#syringe pump\u001b[39;00m\n\u001b[1;32m----> 2\u001b[0m com_syr \u001b[38;5;241m=\u001b[39m \u001b[43mrm\u001b[49m\u001b[38;5;241;43m.\u001b[39;49m\u001b[43mopen_resource\u001b[49m\u001b[43m(\u001b[49m\u001b[38;5;124;43m'\u001b[39;49m\u001b[38;5;124;43mASRL4::INSTR\u001b[39;49m\u001b[38;5;124;43m'\u001b[39;49m\u001b[43m)\u001b[49m\n\u001b[0;32m      3\u001b[0m \u001b[38;5;66;03m# com_syr.baud_rate = 115200\u001b[39;00m\n",
      "File \u001b[1;32m~\\AppData\\Local\\Programs\\Python\\Python311\\Lib\\site-packages\\pyvisa\\highlevel.py:3284\u001b[0m, in \u001b[0;36mResourceManager.open_resource\u001b[1;34m(self, resource_name, access_mode, open_timeout, resource_pyclass, **kwargs)\u001b[0m\n\u001b[0;32m   3278\u001b[0m     \u001b[38;5;28;01mif\u001b[39;00m \u001b[38;5;129;01mnot\u001b[39;00m present:\n\u001b[0;32m   3279\u001b[0m         \u001b[38;5;28;01mraise\u001b[39;00m \u001b[38;5;167;01mValueError\u001b[39;00m(\n\u001b[0;32m   3280\u001b[0m             \u001b[38;5;124m\"\u001b[39m\u001b[38;5;132;01m%r\u001b[39;00m\u001b[38;5;124m is not a valid attribute for type \u001b[39m\u001b[38;5;132;01m%s\u001b[39;00m\u001b[38;5;124m\"\u001b[39m\n\u001b[0;32m   3281\u001b[0m             \u001b[38;5;241m%\u001b[39m (key, res\u001b[38;5;241m.\u001b[39m\u001b[38;5;18m__class__\u001b[39m\u001b[38;5;241m.\u001b[39m\u001b[38;5;18m__name__\u001b[39m)\n\u001b[0;32m   3282\u001b[0m         )\n\u001b[1;32m-> 3284\u001b[0m \u001b[43mres\u001b[49m\u001b[38;5;241;43m.\u001b[39;49m\u001b[43mopen\u001b[49m\u001b[43m(\u001b[49m\u001b[43maccess_mode\u001b[49m\u001b[43m,\u001b[49m\u001b[43m \u001b[49m\u001b[43mopen_timeout\u001b[49m\u001b[43m)\u001b[49m\n\u001b[0;32m   3286\u001b[0m \u001b[38;5;28;01mfor\u001b[39;00m key, value \u001b[38;5;129;01min\u001b[39;00m kwargs\u001b[38;5;241m.\u001b[39mitems():\n\u001b[0;32m   3287\u001b[0m     \u001b[38;5;28msetattr\u001b[39m(res, key, value)\n",
      "File \u001b[1;32m~\\AppData\\Local\\Programs\\Python\\Python311\\Lib\\site-packages\\pyvisa\\resources\\resource.py:282\u001b[0m, in \u001b[0;36mResource.open\u001b[1;34m(self, access_mode, open_timeout)\u001b[0m\n\u001b[0;32m    278\u001b[0m logger\u001b[38;5;241m.\u001b[39mdebug(\u001b[38;5;124m\"\u001b[39m\u001b[38;5;132;01m%s\u001b[39;00m\u001b[38;5;124m - opening ...\u001b[39m\u001b[38;5;124m\"\u001b[39m, \u001b[38;5;28mself\u001b[39m\u001b[38;5;241m.\u001b[39m_resource_name, extra\u001b[38;5;241m=\u001b[39m\u001b[38;5;28mself\u001b[39m\u001b[38;5;241m.\u001b[39m_logging_extra)\n\u001b[0;32m    279\u001b[0m \u001b[38;5;28;01mwith\u001b[39;00m \u001b[38;5;28mself\u001b[39m\u001b[38;5;241m.\u001b[39m_resource_manager\u001b[38;5;241m.\u001b[39mignore_warning(\n\u001b[0;32m    280\u001b[0m     constants\u001b[38;5;241m.\u001b[39mStatusCode\u001b[38;5;241m.\u001b[39msuccess_device_not_present\n\u001b[0;32m    281\u001b[0m ):\n\u001b[1;32m--> 282\u001b[0m     \u001b[38;5;28mself\u001b[39m\u001b[38;5;241m.\u001b[39msession, status \u001b[38;5;241m=\u001b[39m \u001b[38;5;28;43mself\u001b[39;49m\u001b[38;5;241;43m.\u001b[39;49m\u001b[43m_resource_manager\u001b[49m\u001b[38;5;241;43m.\u001b[39;49m\u001b[43mopen_bare_resource\u001b[49m\u001b[43m(\u001b[49m\n\u001b[0;32m    283\u001b[0m \u001b[43m        \u001b[49m\u001b[38;5;28;43mself\u001b[39;49m\u001b[38;5;241;43m.\u001b[39;49m\u001b[43m_resource_name\u001b[49m\u001b[43m,\u001b[49m\u001b[43m \u001b[49m\u001b[43maccess_mode\u001b[49m\u001b[43m,\u001b[49m\u001b[43m \u001b[49m\u001b[43mopen_timeout\u001b[49m\n\u001b[0;32m    284\u001b[0m \u001b[43m    \u001b[49m\u001b[43m)\u001b[49m\n\u001b[0;32m    286\u001b[0m     \u001b[38;5;28;01mif\u001b[39;00m status \u001b[38;5;241m==\u001b[39m constants\u001b[38;5;241m.\u001b[39mStatusCode\u001b[38;5;241m.\u001b[39msuccess_device_not_present:\n\u001b[0;32m    287\u001b[0m         \u001b[38;5;66;03m# The device was not ready when we opened the session.\u001b[39;00m\n\u001b[0;32m    288\u001b[0m         \u001b[38;5;66;03m# Now it gets five seconds more to become ready.\u001b[39;00m\n\u001b[0;32m    289\u001b[0m         \u001b[38;5;66;03m# Every 0.1 seconds we probe it with viClear.\u001b[39;00m\n\u001b[0;32m    290\u001b[0m         start_time \u001b[38;5;241m=\u001b[39m time\u001b[38;5;241m.\u001b[39mtime()\n",
      "File \u001b[1;32m~\\AppData\\Local\\Programs\\Python\\Python311\\Lib\\site-packages\\pyvisa\\highlevel.py:3209\u001b[0m, in \u001b[0;36mResourceManager.open_bare_resource\u001b[1;34m(self, resource_name, access_mode, open_timeout)\u001b[0m\n\u001b[0;32m   3180\u001b[0m \u001b[38;5;28;01mdef\u001b[39;00m \u001b[38;5;21mopen_bare_resource\u001b[39m(\n\u001b[0;32m   3181\u001b[0m     \u001b[38;5;28mself\u001b[39m,\n\u001b[0;32m   3182\u001b[0m     resource_name: \u001b[38;5;28mstr\u001b[39m,\n\u001b[0;32m   3183\u001b[0m     access_mode: constants\u001b[38;5;241m.\u001b[39mAccessModes \u001b[38;5;241m=\u001b[39m constants\u001b[38;5;241m.\u001b[39mAccessModes\u001b[38;5;241m.\u001b[39mno_lock,\n\u001b[0;32m   3184\u001b[0m     open_timeout: \u001b[38;5;28mint\u001b[39m \u001b[38;5;241m=\u001b[39m constants\u001b[38;5;241m.\u001b[39mVI_TMO_IMMEDIATE,\n\u001b[0;32m   3185\u001b[0m ) \u001b[38;5;241m-\u001b[39m\u001b[38;5;241m>\u001b[39m Tuple[VISASession, StatusCode]:\n\u001b[0;32m   3186\u001b[0m \u001b[38;5;250m    \u001b[39m\u001b[38;5;124;03m\"\"\"Open the specified resource without wrapping into a class.\u001b[39;00m\n\u001b[0;32m   3187\u001b[0m \n\u001b[0;32m   3188\u001b[0m \u001b[38;5;124;03m    Parameters\u001b[39;00m\n\u001b[1;32m   (...)\u001b[0m\n\u001b[0;32m   3207\u001b[0m \n\u001b[0;32m   3208\u001b[0m \u001b[38;5;124;03m    \"\"\"\u001b[39;00m\n\u001b[1;32m-> 3209\u001b[0m     \u001b[38;5;28;01mreturn\u001b[39;00m \u001b[38;5;28;43mself\u001b[39;49m\u001b[38;5;241;43m.\u001b[39;49m\u001b[43mvisalib\u001b[49m\u001b[38;5;241;43m.\u001b[39;49m\u001b[43mopen\u001b[49m\u001b[43m(\u001b[49m\u001b[38;5;28;43mself\u001b[39;49m\u001b[38;5;241;43m.\u001b[39;49m\u001b[43msession\u001b[49m\u001b[43m,\u001b[49m\u001b[43m \u001b[49m\u001b[43mresource_name\u001b[49m\u001b[43m,\u001b[49m\u001b[43m \u001b[49m\u001b[43maccess_mode\u001b[49m\u001b[43m,\u001b[49m\u001b[43m \u001b[49m\u001b[43mopen_timeout\u001b[49m\u001b[43m)\u001b[49m\n",
      "File \u001b[1;32m~\\AppData\\Local\\Programs\\Python\\Python311\\Lib\\site-packages\\pyvisa\\ctwrapper\\functions.py:1851\u001b[0m, in \u001b[0;36mopen\u001b[1;34m(library, session, resource_name, access_mode, open_timeout)\u001b[0m\n\u001b[0;32m   1847\u001b[0m out_session \u001b[38;5;241m=\u001b[39m ViSession()\n\u001b[0;32m   1849\u001b[0m \u001b[38;5;66;03m# [ViSession, ViRsrc, ViAccessMode, ViUInt32, ViPSession]\u001b[39;00m\n\u001b[0;32m   1850\u001b[0m \u001b[38;5;66;03m# ViRsrc converts from (str, unicode, bytes) to bytes\u001b[39;00m\n\u001b[1;32m-> 1851\u001b[0m ret \u001b[38;5;241m=\u001b[39m \u001b[43mlibrary\u001b[49m\u001b[38;5;241;43m.\u001b[39;49m\u001b[43mviOpen\u001b[49m\u001b[43m(\u001b[49m\n\u001b[0;32m   1852\u001b[0m \u001b[43m    \u001b[49m\u001b[43msession\u001b[49m\u001b[43m,\u001b[49m\u001b[43m \u001b[49m\u001b[43mresource_name\u001b[49m\u001b[43m,\u001b[49m\u001b[43m \u001b[49m\u001b[43maccess_mode\u001b[49m\u001b[43m,\u001b[49m\u001b[43m \u001b[49m\u001b[43mopen_timeout\u001b[49m\u001b[43m,\u001b[49m\u001b[43m \u001b[49m\u001b[43mbyref\u001b[49m\u001b[43m(\u001b[49m\u001b[43mout_session\u001b[49m\u001b[43m)\u001b[49m\n\u001b[0;32m   1853\u001b[0m \u001b[43m\u001b[49m\u001b[43m)\u001b[49m\n\u001b[0;32m   1854\u001b[0m \u001b[38;5;28;01mreturn\u001b[39;00m out_session\u001b[38;5;241m.\u001b[39mvalue, ret\n",
      "File \u001b[1;32m~\\AppData\\Local\\Programs\\Python\\Python311\\Lib\\site-packages\\pyvisa\\ctwrapper\\highlevel.py:226\u001b[0m, in \u001b[0;36mIVIVisaLibrary._return_handler\u001b[1;34m(self, ret_value, func, arguments)\u001b[0m\n\u001b[0;32m    223\u001b[0m         \u001b[38;5;66;03m# Set session back to a safe value\u001b[39;00m\n\u001b[0;32m    224\u001b[0m         session \u001b[38;5;241m=\u001b[39m \u001b[38;5;28;01mNone\u001b[39;00m\n\u001b[1;32m--> 226\u001b[0m \u001b[38;5;28;01mreturn\u001b[39;00m \u001b[38;5;28;43mself\u001b[39;49m\u001b[38;5;241;43m.\u001b[39;49m\u001b[43mhandle_return_value\u001b[49m\u001b[43m(\u001b[49m\u001b[43msession\u001b[49m\u001b[43m,\u001b[49m\u001b[43m \u001b[49m\u001b[43mret_value\u001b[49m\u001b[43m)\u001b[49m\n",
      "File \u001b[1;32m~\\AppData\\Local\\Programs\\Python\\Python311\\Lib\\site-packages\\pyvisa\\highlevel.py:251\u001b[0m, in \u001b[0;36mVisaLibraryBase.handle_return_value\u001b[1;34m(self, session, status_code)\u001b[0m\n\u001b[0;32m    248\u001b[0m     \u001b[38;5;28mself\u001b[39m\u001b[38;5;241m.\u001b[39m_last_status_in_session[session] \u001b[38;5;241m=\u001b[39m rv\n\u001b[0;32m    250\u001b[0m \u001b[38;5;28;01mif\u001b[39;00m rv \u001b[38;5;241m<\u001b[39m \u001b[38;5;241m0\u001b[39m:\n\u001b[1;32m--> 251\u001b[0m     \u001b[38;5;28;01mraise\u001b[39;00m errors\u001b[38;5;241m.\u001b[39mVisaIOError(rv)\n\u001b[0;32m    253\u001b[0m \u001b[38;5;28;01mif\u001b[39;00m rv \u001b[38;5;129;01min\u001b[39;00m \u001b[38;5;28mself\u001b[39m\u001b[38;5;241m.\u001b[39missue_warning_on:\n\u001b[0;32m    254\u001b[0m     \u001b[38;5;28;01mif\u001b[39;00m session \u001b[38;5;129;01mand\u001b[39;00m rv \u001b[38;5;129;01mnot\u001b[39;00m \u001b[38;5;129;01min\u001b[39;00m \u001b[38;5;28mself\u001b[39m\u001b[38;5;241m.\u001b[39m_ignore_warning_in_session[session]:\n",
      "\u001b[1;31mVisaIOError\u001b[0m: VI_ERROR_RSRC_NFOUND (-1073807343): Insufficient location information or the requested device or resource is not present in the system."
     ]
    }
   ],
   "source": [
    "#syringe pump\n",
    "com_syr = rm.open_resource('ASRL4::INSTR')\n",
    "# com_syr.baud_rate = 115200"
   ]
  },
  {
   "cell_type": "code",
   "execution_count": 12,
   "id": "a7d39b63",
   "metadata": {},
   "outputs": [],
   "source": [
    "#temperature control\n",
    "com_hot = minimalmodbus.Instrument('com17', 1, minimalmodbus.MODE_RTU)\n",
    "com_hot.serial.baudrate = 115200"
   ]
  },
  {
   "cell_type": "code",
   "execution_count": 8,
   "id": "b18a7d5a",
   "metadata": {},
   "outputs": [
    {
     "data": {
      "text/plain": [
       "5"
      ]
     },
     "execution_count": 8,
     "metadata": {},
     "output_type": "execute_result"
    }
   ],
   "source": [
    "#Turns on Motion Controller\n",
    "com_pxpy.write('1MO')\n",
    "com_pxpy.write('2MO')\n",
    "\n",
    "#moving to different positions from live positions ##PR moves from relative position\n",
    "#com_pxpy.write('1PA'+position_x)\n",
    "#com_pxpy.write('2PA'+position_y)"
   ]
  },
  {
   "cell_type": "code",
   "execution_count": null,
   "id": "da42d0b8",
   "metadata": {},
   "outputs": [],
   "source": [
    "#we are choosing to make flush our 0 for syringe + camera ref "
   ]
  },
  {
   "cell_type": "code",
   "execution_count": null,
   "id": "f77d1a34",
   "metadata": {},
   "outputs": [],
   "source": [
    "#Identify current position and print\n",
    "live_position_x_t = com_pxpy.query_ascii_values('1TP?')\n",
    "live_position_x = ''.join(str(element) for element in live_position_x_t)\n",
    "live_position_y_t = com_pxpy.query_ascii_values('2TP?')\n",
    "live_position_y = ''.join(str(element) for element in live_position_y_t)\n",
    "print('(x,y):')\n",
    "print(live_position_x, live_position_y)"
   ]
  },
  {
   "cell_type": "code",
   "execution_count": 9,
   "id": "6d15217a",
   "metadata": {},
   "outputs": [],
   "source": [
    "def move_to(position_x, position_y):\n",
    "    position_x = str(position_x)\n",
    "    position_y = str(position_y)\n",
    "    com_pxpy.write('1PA'+position_x)\n",
    "    time.sleep(0.1)              \n",
    "    com_pxpy.write('2PA'+position_y)\n",
    "    time.sleep(0.1)"
   ]
  },
  {
   "cell_type": "code",
   "execution_count": 10,
   "id": "a8e336f9",
   "metadata": {},
   "outputs": [],
   "source": [
    "#align flush to camera\n",
    "#Identify Camera Position\n",
    "#I guess we should move to the camera and then run this command ??\n",
    "move_to(-40,0) #locate camera "
   ]
  },
  {
   "cell_type": "code",
   "execution_count": 11,
   "id": "48e0194b",
   "metadata": {},
   "outputs": [],
   "source": [
    "#Temp testing\n"
   ]
  },
  {
   "cell_type": "code",
   "execution_count": null,
   "id": "15f223d8",
   "metadata": {},
   "outputs": [],
   "source": [
    "camera_position_x = com_pxpy.query_ascii_values('1TP?')\n",
    "camera_position_x = ''.join(str(element) for element in camera_position_x)\n",
    "camera_position_y = com_pxpy.query_ascii_values('2TP?')\n",
    "camera_position_y = ''.join(str(element) for element in camera_position_y)\n",
    "print(camera_position_x,camera_position_y)"
   ]
  },
  {
   "cell_type": "code",
   "execution_count": null,
   "id": "483e2ac8",
   "metadata": {},
   "outputs": [],
   "source": [
    "#align flush to syringe\n",
    "#Identify Syringe Position\n",
    "move_to(0,14) # locate syringe position"
   ]
  },
  {
   "cell_type": "code",
   "execution_count": null,
   "id": "59b5a220",
   "metadata": {},
   "outputs": [],
   "source": [
    "syringe_position_x = com_pxpy.query_ascii_values('1TP?')\n",
    "syringe_position_x = ''.join(str(element) for element in syringe_position_x)\n",
    "syringe_position_y = com_pxpy.query_ascii_values('2TP?')\n",
    "syringe_position_y = ''.join(str(element) for element in syringe_position_y)\n",
    "print(syringe_position_x,syringe_position_y)"
   ]
  },
  {
   "cell_type": "code",
   "execution_count": null,
   "id": "37ddce2f",
   "metadata": {},
   "outputs": [],
   "source": [
    "def capture_and_save_image(image_name):\n",
    "    save_path = \"directory_name_here\"  # Specify the directory\n",
    "    \n",
    "    cap = cv2.VideoCapture(0)\n",
    "      # Capture frame from the camera\n",
    "    ret, frame = cap.read()\n",
    "     # Save the captured frame with the specified name\n",
    "    image_path = f\"{save_path}/{image_name}.jpg\"\n",
    "    cv2.imwrite(image_path, frame)\n",
    "    # Release the camera\n",
    "    cap.release()\n"
   ]
  },
  {
   "cell_type": "code",
   "execution_count": null,
   "id": "bc3d4a32",
   "metadata": {},
   "outputs": [],
   "source": [
    "#Identify Flush Position\n",
    "#move to the camera and then run this command\n",
    "#move_to(,) # locate flush"
   ]
  },
  {
   "cell_type": "code",
   "execution_count": null,
   "id": "5ece6007",
   "metadata": {},
   "outputs": [],
   "source": [
    "#flush_position_x = com_pxpy.query_ascii_values('1TP?')\n",
    "#flush_position_x = ''.join(str(element) for element in flush_position_x)\n",
    "#flush_position_y = com_pxpy.query_ascii_values('2TP?')\n",
    "#flush_position_y = ''.join(str(element) for element in flush_position_y)"
   ]
  },
  {
   "cell_type": "code",
   "execution_count": null,
   "id": "49c40942",
   "metadata": {},
   "outputs": [],
   "source": [
    "#Initialize Syringe Parameters\n",
    "sy_dia = 10.3 #mm #Hamilton 81520\n",
    "\n",
    "res_vol = 4 #mL #same for 1,2 "
   ]
  },
  {
   "cell_type": "code",
   "execution_count": null,
   "id": "753f6ee2",
   "metadata": {},
   "outputs": [],
   "source": [
    "#Defining an operation that executes the pumping procedure\n",
    "def single_pump(sy_dia, res_vol, ID, rate, dispense_vol):\n",
    "    #sy_dia = 12.03\n",
    "\n",
    "    #ID = 0, 1, 2 (pump number)\n",
    "    #res_vol = reservoir volume in ml (usually ~5), usually integer\n",
    "    #sy_dia = diameter of syrine, current config has sy_dia = 12.03\n",
    "    #rate = pump rate in ul/min (format: xx.x) - float, 1 decimal place\n",
    "    #sample_vol = volume to be pumped at defined rate (format: xxx.x) - float, 1 decimal place\n",
    "\n",
    "    com_syr.write(str(ID) + 'svolume ' + str(res_vol) + ' ml')\n",
    "    time.sleep(0.1)\n",
    "\n",
    "    com_syr.write(str(ID) + 'diameter ' + str(float(sy_dia)))\n",
    "    time.sleep(0.1)\n",
    "\n",
    "    com_syr.write(str(ID) + 'irate ' + str(float(rate)) + ' ul/min')\n",
    "    time.sleep(0.1)\n",
    "\n",
    "    com_syr.write(str(ID) + 'tvolume ' + str(float(dispense_vol)) + ' ul')\n",
    "    time.sleep(0.1)\n",
    "\n",
    "    com_syr.write(str(ID) + 'irun')"
   ]
  },
  {
   "cell_type": "code",
   "execution_count": null,
   "id": "059b0c24",
   "metadata": {},
   "outputs": [],
   "source": [
    "#Flush out the piping for a fresh dropcast\n",
    "def flush(flush_volume_0, flush_volume_1, flush_time): #flushes syringe 1 & 2\n",
    "    #minki made flush_time = 3*flush_volume (around 20s)\n",
    "    \n",
    "    \n",
    "    rate_flush_0 = 60 * (flush_volume_0 / flush_time)\n",
    "    rate_flush_1 = 60 * (flush_volume_1 / flush_time)\n",
    "    \n",
    "    #flush sample\n",
    "    single_pump(sy_dia, res_vol, 0, rate_flush_0, flush_volume_0)\n",
    "    time.sleep(0.1)\n",
    "\n",
    "    single_pump(sy_dia, res_vol, 1, rate_flush_1, flush_volume_1)\n",
    "    time.sleep(0.1)"
   ]
  },
  {
   "cell_type": "code",
   "execution_count": null,
   "id": "a2807032",
   "metadata": {},
   "outputs": [],
   "source": [
    "L_pipes = 400 #mm\n",
    "V_flush_mL = 0.495 * L_pipes * 0.001 #mL #1/16 system\n",
    "V_flush_uL = V_flush_mL * 1000\n",
    "\n",
    "V_flush_initial = V_flush_uL + 10  \n",
    "\n",
    "V_mixing_chamber = 0.57 #uL\n",
    "V_0_flush = V_1_f = 3 * V_mixing_chamber #uL\n",
    "V_1_flush = V_2_f = 3 * V_mixing_chamber #uL\n",
    "\n",
    "flush_time = f_t = 20 #s\n",
    "wait_flush = 240 #s"
   ]
  },
  {
   "cell_type": "code",
   "execution_count": null,
   "id": "ae6708ff",
   "metadata": {},
   "outputs": [],
   "source": [
    "#Initial flsh through pipes\n",
    "move_to(syringe_position_x,syringe_position_y)\n",
    "time.sleep(0.2)\n",
    "flush(V_flush_initial, V_flush_initial, 30) #is time good? #initially 30\n",
    "time.sleep(0.2)"
   ]
  },
  {
   "cell_type": "code",
   "execution_count": null,
   "id": "ebc465c4",
   "metadata": {},
   "outputs": [],
   "source": []
  },
  {
   "cell_type": "code",
   "execution_count": null,
   "id": "2af62aaa",
   "metadata": {},
   "outputs": [],
   "source": [
    "V_flush_initial"
   ]
  },
  {
   "cell_type": "code",
   "execution_count": null,
   "id": "651140eb",
   "metadata": {},
   "outputs": [],
   "source": [
    "#flow and droplet parameters \n",
    "\n",
    "dispense_time = t_d = 60 #s\n",
    "\n",
    "total_dispense_vol = V_d = 20 #uL\n",
    "\n",
    "Q_d = V_d/t_d #mL/min\n",
    "\n",
    "evaporation_time = e_t = 10 #=  18000 #s\n",
    "sample_distance = 20 #mm #center-center distance of droplets\n",
    "flush_d = 30 #flush to sample 0-0 distance\n",
    "\n",
    "#(figure the positioning out)^^"
   ]
  },
  {
   "cell_type": "code",
   "execution_count": null,
   "id": "9bd519c7",
   "metadata": {},
   "outputs": [],
   "source": [
    "#AE parameters \n",
    "file_path = \"image\"\n",
    "#max_iteration = 10\n",
    "#p = [0.5]\n",
    "\n",
    "#p = [0,0.2,0.4,0.6,0.8,1] # 6 percentages\n",
    "\n",
    "p = [.4,.5,.6,.7]\n",
    "#T = []"
   ]
  },
  {
   "cell_type": "code",
   "execution_count": null,
   "id": "1dff6505",
   "metadata": {},
   "outputs": [],
   "source": [
    "#Dropcasting Loop\n",
    "for i in range(4):\n",
    "    print(f'iteration {i+1}')\n",
    "    time.sleep(0.2)\n",
    "    \n",
    "    #move to flush position\n",
    "    print('flushing')\n",
    "    move_to(syringe_position_x,syringe_position_y)\n",
    "    time.sleep(0.2)\n",
    "    flush(V_0_flush, V_1_flush, flush_time)\n",
    "    time.sleep(0.2)\n",
    "    time.sleep(10)\n",
    "    \n",
    "    #find location of each droplet in iteration\n",
    "    n = 2 #number of droplets per row\n",
    "    a, b = divmod(i,n)\n",
    "    print(a,b)\n",
    "    \n",
    "    #flush is to the right\n",
    "    position_x = str(float(syringe_position_x)-(sample_distance*int(b))-flush_d)\n",
    "    position_y = str(float(syringe_position_y)-(sample_distance*int(a)))\n",
    "    print(f'droplet center:{position_x,position_y}')\n",
    "   \n",
    "    #Here p (ratio) should change with optimization\n",
    "    V_0 = p[i] * V_d\n",
    "    V_1 = (1-p[i]) * V_d \n",
    "\n",
    "    Q_0 = 60 * (V_0/t_d)\n",
    "    Q_1 = 60 * (V_1/t_d)\n",
    "    \n",
    "    print(f'droplet volume:{V_0,V_1}')\n",
    "    \n",
    "    #move droplet i location to syringe and start experiment\n",
    "    move_to(position_x,position_y)\n",
    "    single_pump(sy_dia, res_vol, 0, Q_0, V_0)\n",
    "    time.sleep(0.2)\n",
    "    single_pump(sy_dia, res_vol, 1, Q_1, V_1)\n",
    "    time.sleep(0.2)\n",
    "    \n",
    "    #allow droplet evaporation \n",
    "    time.sleep(e_t)\n",
    "    \n",
    "    time.sleep(10)\n",
    "    \n",
    "    #move to camera and image\n",
    "    position_x = str(float(camera_position_x)-(sample_distance*int(b))-flush_d)\n",
    "    position_y = str(float(camera_position_y)+(sample_distance*int(a)))\n",
    "    move_to(position_x,position_y)\n",
    "    time.sleep(0.2)\n",
    "    time.sleep(10)\n",
    "    #capture_and_save_image(i)\n",
    "    time.sleep(0.2)\n",
    "    \n",
    "    #image processing\n",
    "    \n",
    "    #optimization \n",
    "    print('end of loop')"
   ]
  },
  {
   "cell_type": "code",
   "execution_count": null,
   "id": "2100a04b",
   "metadata": {},
   "outputs": [],
   "source": [
    "position_x = str(float(syringe_position_x)-(0)-flush_d)\n",
    "position_y = str(float(syringe_position_y)+(1))\n",
    "    \n",
    "    #move droplet i location to syringe and start experiment\n",
    "move_to(position_x,position_y)"
   ]
  },
  {
   "cell_type": "code",
   "execution_count": null,
   "id": "be13a9a7",
   "metadata": {},
   "outputs": [],
   "source": []
  },
  {
   "cell_type": "code",
   "execution_count": null,
   "id": "96d4f1ce",
   "metadata": {},
   "outputs": [],
   "source": []
  }
 ],
 "metadata": {
  "kernelspec": {
   "display_name": "Python 3 (ipykernel)",
   "language": "python",
   "name": "python3"
  },
  "language_info": {
   "codemirror_mode": {
    "name": "ipython",
    "version": 3
   },
   "file_extension": ".py",
   "mimetype": "text/x-python",
   "name": "python",
   "nbconvert_exporter": "python",
   "pygments_lexer": "ipython3",
   "version": "3.11.3"
  }
 },
 "nbformat": 4,
 "nbformat_minor": 5
}
