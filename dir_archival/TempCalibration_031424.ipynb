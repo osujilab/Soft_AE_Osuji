{
 "cells": [
  {
   "cell_type": "markdown",
   "metadata": {
    "id": "NfjvFsTGFWdr"
   },
   "source": [
    "## Imports"
   ]
  },
  {
   "cell_type": "code",
   "execution_count": 5,
   "metadata": {
    "colab": {
     "base_uri": "https://localhost:8080/",
     "height": 412
    },
    "id": "v3Ye29TXisv3",
    "outputId": "7632d0dd-8ea1-45f3-b888-43b16c504d91"
   },
   "outputs": [],
   "source": [
    "from cgi import test\n",
    "from optparse import Values\n",
    "from sqlite3 import Row\n",
    "from time import time\n",
    "import tkinter as tk\n",
    "from turtle import width\n",
    "import pyvisa\n",
    "import time\n",
    "# import keyboard\n",
    "import time\n",
    "import cv2\n",
    "from PIL import Image, ImageTk\n",
    "from webbrowser import get\n",
    "import numpy as np\n",
    "import datetime as dt\n",
    "import matplotlib.pyplot as plt\n",
    "import matplotlib.animation as animation\n",
    "from matplotlib.backends.backend_tkagg import FigureCanvasTkAgg\n",
    "from matplotlib.figure import Figure\n",
    "import threading as th\n",
    "import minimalmodbus\n",
    "from skopt import Optimizer\n",
    "from skopt.plots import plot_objective\n",
    "from skopt.plots import plot_evaluations\n",
    "# from simple_pid import PID\n",
    "import os\n",
    "import pandas as pd\n",
    "import random\n",
    "import serial\n"
   ]
  },
  {
   "cell_type": "markdown",
   "metadata": {
    "id": "yCcwXF95FY7w"
   },
   "source": [
    "Device Connection\n"
   ]
  },
  {
   "cell_type": "code",
   "execution_count": 2,
   "metadata": {},
   "outputs": [
    {
     "name": "stdout",
     "output_type": "stream",
     "text": [
      "('ASRL1::INSTR', 'ASRL6::INSTR', 'ASRL7::INSTR', 'ASRL13::INSTR', 'ASRL17::INSTR', 'ASRL18::INSTR')\n"
     ]
    }
   ],
   "source": [
    "rm = pyvisa.ResourceManager()\n",
    "print(rm.list_resources())"
   ]
  },
  {
   "cell_type": "code",
   "execution_count": 10,
   "metadata": {
    "id": "UPxIJbmQFTWt"
   },
   "outputs": [
    {
     "name": "stdout",
     "output_type": "stream",
     "text": [
      "minimalmodbus.Instrument<id=0x15c1cf8a3d0, address=1, mode=rtu, close_port_after_each_call=False, precalculate_read_size=True, clear_buffers_before_each_transaction=True, handle_local_echo=False, debug=False, serial=Serial<id=0x15c1cf37ca0, open=True>(port='COM17', baudrate=19200, bytesize=8, parity='N', stopbits=1, timeout=0.05, xonxoff=False, rtscts=False, dsrdtr=False)>\n"
     ]
    }
   ],
   "source": [
    "# temperature control\n",
    "\n",
    "# baudrate_temp = 9600\n",
    "# ser = serial.Serial('com20', baudrate_temp, timeout=1, rtscts=True, dsrdtr=True)\n",
    "# # ser.open()\n",
    "# # ser.close()\n",
    "\n",
    "# com_hot = minimalmodbus.Instrument(ser, 1, minimalmodbus.MODE_RTU)\n",
    "# com_hot.serial.baudrate = 9600\n",
    "# print(com_hot)\n",
    "\n",
    "\n",
    "com_hot = minimalmodbus.Instrument('COM17', 1, minimalmodbus.MODE_RTU)\n",
    "a = dir(com_hot)\n",
    "print(com_hot)\n",
    "# print(a)\n",
    "# print(\"---------------\")\n",
    "# print(dir(com_hot))"
   ]
  },
  {
   "cell_type": "code",
   "execution_count": null,
   "metadata": {},
   "outputs": [],
   "source": []
  },
  {
   "cell_type": "code",
   "execution_count": null,
   "metadata": {},
   "outputs": [],
   "source": []
  },
  {
   "cell_type": "markdown",
   "metadata": {
    "id": "S2Yi-e6XFrJX"
   },
   "source": [
    "Position of the Camera and Stage don't necessarily matter since this is just calibrating temperatures"
   ]
  },
  {
   "cell_type": "code",
   "execution_count": 7,
   "metadata": {},
   "outputs": [],
   "source": [
    "#ASRL7 = Linear Stage\n",
    "com_pxpy = rm.open_resource('ASRL7::INSTR')\n",
    "com_pxpy.baud_rate = 921600 #fixed\n",
    "\n",
    "#Turns on Motion Controller\n",
    "com_pxpy.write('1MO')\n",
    "com_pxpy.write('2MO')\n",
    "\n",
    "def move_to(position_x, position_y):\n",
    "    position_x = str(position_x)\n",
    "    position_y = str(position_y)\n",
    "    com_pxpy.write('1PA'+position_x)\n",
    "    time.sleep(0.1)              \n",
    "    com_pxpy.write('2PA'+position_y)\n",
    "    time.sleep(0.1)"
   ]
  },
  {
   "cell_type": "code",
   "execution_count": 1,
   "metadata": {},
   "outputs": [],
   "source": [
    "def read_T(com_hot):\n",
    "  a = com_hot.read_float(528) #double check whether this returns the current \"actual\" temperature\n",
    "  #or just the set point temperature --> i think it's actually the \"actual\" temperature\n",
    "  return a"
   ]
  },
  {
   "cell_type": "code",
   "execution_count": 3,
   "metadata": {},
   "outputs": [
    {
     "ename": "NameError",
     "evalue": "name 'com_hot' is not defined",
     "output_type": "error",
     "traceback": [
      "\u001b[1;31m---------------------------------------------------------------------------\u001b[0m",
      "\u001b[1;31mNameError\u001b[0m                                 Traceback (most recent call last)",
      "Cell \u001b[1;32mIn[3], line 1\u001b[0m\n\u001b[1;32m----> 1\u001b[0m a \u001b[38;5;241m=\u001b[39m read_T(\u001b[43mcom_hot\u001b[49m)\n",
      "\u001b[1;31mNameError\u001b[0m: name 'com_hot' is not defined"
     ]
    }
   ],
   "source": [
    "a = read_T(com_hot)"
   ]
  },
  {
   "cell_type": "markdown",
   "metadata": {
    "id": "06fQM6tzPYnA"
   },
   "source": [
    "## Functions"
   ]
  },
  {
   "cell_type": "code",
   "execution_count": 8,
   "metadata": {
    "id": "TfnAcnpKGZtW"
   },
   "outputs": [],
   "source": [
    "## Additional (wrapper) Functions\n",
    "\n",
    "def read_T(com_hot):\n",
    "  a = com_hot.read_float(528) #double check whether this returns the current \"actual\" temperature\n",
    "  #or just the set point temperature --> i think it's actually the \"actual\" temperature\n",
    "  return a\n",
    "    \n",
    "def write_T(com_hot, T):\n",
    "  com_hot.write_float(548, float(T))\n",
    "  return\n",
    "\n",
    "def delay_func(T_prev, T_new, cool_scale = 5):\n",
    "  \"\"\" given two temperatures, predict the time required to allow for temp to equilibriate ([=] s)\n",
    "  t = (m*dT) + b; t_cool = t * cool_scale\n",
    "  \"\"\"\n",
    "  heat_flag = (T_new > T_prev)\n",
    "  m = 60\n",
    "  b = 15\n",
    "  dT = np.abs(T_new-T_prev)\n",
    "\n",
    "  t = (m*dT) + b\n",
    "\n",
    "  if heat_flag == False:\n",
    "    t = t * cool_scale\n",
    "\n",
    "  return t\n",
    "\n",
    "######\n",
    "\n",
    "#assume TC is some dict with entry 'curr_T', and 'reading' is returning the current values,\n",
    "#while 'writing' is setting the current values\n",
    "def read_current_Temp_dummy(Tdict, text, pFlag=1):\n",
    "  A = Tdict['curr_T']\n",
    "  if pFlag == 1:\n",
    "    print(f\"{text} temperature (C): \", A)\n",
    "\n",
    "  return A\n",
    "\n",
    "def set_current_Temp_dummy(Tdict,T, pFlag=1):\n",
    "  T_float = float(T)\n",
    "  Tdict['curr_T'] = T_float\n",
    "\n",
    "  #function to accomodate for length required to heat stage - can modify (also assuming\n",
    "  #that cooling takes same amount of time as heating for same dT)\n",
    "\n",
    "  if pFlag == 1:\n",
    "    print(\"Set temperature (C): \", T_float)\n",
    "\n",
    "  Tdict['T_set_hist'].append(T_float)\n",
    "\n",
    "  return Tdict\n",
    "\n",
    "def external_measure_dummy(Tdict):\n",
    "  #this would be where we actually use an external thermocouple to take a measurement\n",
    "  err_scale = 5 #random number between 0 and err_scale\n",
    "  measurement = Tdict['curr_T'] + (err_scale * np.random.rand())\n",
    "\n",
    "  Tdict['T_meas_hist'].append(measurement)\n",
    "  return Tdict\n",
    "\n",
    "##########\n"
   ]
  },
  {
   "cell_type": "markdown",
   "metadata": {
    "id": "NhSMkN6NWRrJ"
   },
   "source": [
    "# Real Testing"
   ]
  },
  {
   "cell_type": "markdown",
   "metadata": {
    "id": "zx5teNFXcQen"
   },
   "source": [
    "## Continuous external"
   ]
  },
  {
   "cell_type": "code",
   "execution_count": null,
   "metadata": {
    "colab": {
     "base_uri": "https://localhost:8080/",
     "height": 357
    },
    "id": "gRqvd5Na8oFB",
    "outputId": "d36c2d59-4a27-4db9-a490-2a62299998b9"
   },
   "outputs": [],
   "source": [
    "RT= 23\n",
    "low_T = 30\n",
    "high_T = 200\n",
    "num_T = 20\n",
    "\n",
    "#Temp values to test over\n",
    "T_list = np.arange(low_T, high_T, num_T)\n",
    "#idea: have external thermocouple hooked up to measure continuously: assume continual measurements possible\n",
    "#(i.e. time step = relatively short, on the order of seconds)\n",
    "\n",
    "#no need to make T_set since that corresponds to T_list\n",
    "T_read = []\n",
    "\n",
    "for i in range(num_T):\n",
    "  write_T(T_list[i])\n",
    "\n",
    "  if i == 0:\n",
    "    t_sleep = delay_func(RT, T_list[i])\n",
    "  else:\n",
    "    t_sleep = delay_func(T_list[i-1], T_list[i])\n",
    "\n",
    "  time.sleep(t_sleep)\n",
    "\n",
    "  curr_T = read_T()\n",
    "  T_read.append(curr_T)\n"
   ]
  },
  {
   "cell_type": "code",
   "execution_count": null,
   "metadata": {
    "colab": {
     "base_uri": "https://localhost:8080/",
     "height": 865
    },
    "id": "AwiarwWbcEqy",
    "outputId": "0d670edc-1a86-4a9b-ef8e-8ed3a561f82e"
   },
   "outputs": [],
   "source": [
    "x = 0\n",
    "y = 50\n",
    "move_to(x,y)\n",
    "\n",
    "#1(x): -49 -> 50\n",
    "#2(y): -50 -> 50"
   ]
  },
  {
   "cell_type": "code",
   "execution_count": null,
   "metadata": {},
   "outputs": [],
   "source": [
    "print(read_T(com_hot))"
   ]
  },
  {
   "cell_type": "code",
   "execution_count": null,
   "metadata": {
    "colab": {
     "base_uri": "https://localhost:8080/",
     "height": 469
    },
    "id": "G8puQfLStQsc",
    "outputId": "851932bc-cc4a-45b2-f537-47b0cebeb13e"
   },
   "outputs": [],
   "source": [
    "import pylablib as pll"
   ]
  },
  {
   "cell_type": "code",
   "execution_count": 9,
   "metadata": {},
   "outputs": [
    {
     "ename": "ValueError",
     "evalue": "could not convert string to float: ''",
     "output_type": "error",
     "traceback": [
      "\u001b[1;31m---------------------------------------------------------------------------\u001b[0m",
      "\u001b[1;31mValueError\u001b[0m                                Traceback (most recent call last)",
      "Cell \u001b[1;32mIn[9], line 8\u001b[0m\n\u001b[0;32m      6\u001b[0m \u001b[38;5;66;03m# Read the current temperature\u001b[39;00m\n\u001b[0;32m      7\u001b[0m ser\u001b[38;5;241m.\u001b[39mwrite(\u001b[38;5;124mb\u001b[39m\u001b[38;5;124m'\u001b[39m\u001b[38;5;124mREAD_TEMP\u001b[39m\u001b[38;5;124m'\u001b[39m)  \u001b[38;5;66;03m# Send the command to read the temperature\u001b[39;00m\n\u001b[1;32m----> 8\u001b[0m temperature \u001b[38;5;241m=\u001b[39m \u001b[38;5;28;43mfloat\u001b[39;49m\u001b[43m(\u001b[49m\u001b[43mser\u001b[49m\u001b[38;5;241;43m.\u001b[39;49m\u001b[43mread\u001b[49m\u001b[43m(\u001b[49m\u001b[38;5;241;43m5\u001b[39;49m\u001b[43m)\u001b[49m\u001b[38;5;241;43m.\u001b[39;49m\u001b[43mdecode\u001b[49m\u001b[43m(\u001b[49m\u001b[43m)\u001b[49m\u001b[38;5;241;43m.\u001b[39;49m\u001b[43mstrip\u001b[49m\u001b[43m(\u001b[49m\u001b[43m)\u001b[49m\u001b[43m)\u001b[49m  \u001b[38;5;66;03m# Read the temperature response\u001b[39;00m\n\u001b[0;32m      9\u001b[0m \u001b[38;5;28mprint\u001b[39m(\u001b[38;5;124mf\u001b[39m\u001b[38;5;124m\"\u001b[39m\u001b[38;5;124mCurrent temperature: \u001b[39m\u001b[38;5;132;01m{\u001b[39;00mtemperature\u001b[38;5;132;01m:\u001b[39;00m\u001b[38;5;124m.2f\u001b[39m\u001b[38;5;132;01m}\u001b[39;00m\u001b[38;5;124m °C\u001b[39m\u001b[38;5;124m\"\u001b[39m)\n\u001b[0;32m     11\u001b[0m \u001b[38;5;66;03m# Set the temperature setpoint\u001b[39;00m\n",
      "\u001b[1;31mValueError\u001b[0m: could not convert string to float: ''"
     ]
    }
   ],
   "source": [
    "import serial\n",
    "\n",
    "# Connect to the Omega temperature controller\n",
    "ser = serial.Serial('com1', baudrate=9600, parity=serial.PARITY_NONE, stopbits=serial.STOPBITS_ONE, bytesize=serial.EIGHTBITS, timeout=1)\n",
    "\n",
    "# Read the current temperature\n",
    "ser.write(b'READ_TEMP')  # Send the command to read the temperature\n",
    "temperature = float(ser.read(5).decode().strip())  # Read the temperature response\n",
    "print(f\"Current temperature: {temperature:.2f} °C\")\n",
    "\n",
    "# Set the temperature setpoint\n",
    "setpoint_temperature = 50.0\n",
    "ser.write(f'SET_TEMP {setpoint_temperature}'.encode())  # Send the command to set the temperature\n",
    "\n",
    "ser.close()  # Close the serial connection"
   ]
  },
  {
   "cell_type": "code",
   "execution_count": null,
   "metadata": {},
   "outputs": [],
   "source": []
  },
  {
   "cell_type": "code",
   "execution_count": null,
   "metadata": {},
   "outputs": [],
   "source": []
  }
 ],
 "metadata": {
  "colab": {
   "collapsed_sections": [
    "NfjvFsTGFWdr",
    "06fQM6tzPYnA",
    "gduyBx_3HqKP",
    "zx5teNFXcQen",
    "ylGS7fngWUnz"
   ],
   "provenance": []
  },
  "kernelspec": {
   "display_name": "Python 3 (ipykernel)",
   "language": "python",
   "name": "python3"
  },
  "language_info": {
   "codemirror_mode": {
    "name": "ipython",
    "version": 3
   },
   "file_extension": ".py",
   "mimetype": "text/x-python",
   "name": "python",
   "nbconvert_exporter": "python",
   "pygments_lexer": "ipython3",
   "version": "3.11.3"
  }
 },
 "nbformat": 4,
 "nbformat_minor": 1
}
