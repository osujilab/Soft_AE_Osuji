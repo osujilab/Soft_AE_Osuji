{
 "cells": [
  {
   "cell_type": "code",
   "execution_count": 1,
   "id": "87cbde1f",
   "metadata": {},
   "outputs": [
    {
     "name": "stderr",
     "output_type": "stream",
     "text": [
      "C:\\Users\\Osuji\\AppData\\Local\\Temp\\ipykernel_10608\\4243695268.py:1: DeprecationWarning: 'cgi' is deprecated and slated for removal in Python 3.13\n",
      "  from cgi import test\n"
     ]
    }
   ],
   "source": [
    "from cgi import test\n",
    "from optparse import Values\n",
    "from sqlite3 import Row\n",
    "from time import time\n",
    "import tkinter as tk\n",
    "from turtle import width\n",
    "import pyvisa\n",
    "import time \n",
    "# import keyboard\n",
    "import time\n",
    "import cv2\n",
    "from PIL import Image, ImageTk\n",
    "from webbrowser import get\n",
    "import numpy as np\n",
    "import datetime as dt\n",
    "import matplotlib.pyplot as plt\n",
    "import matplotlib.animation as animation\n",
    "from matplotlib.backends.backend_tkagg import FigureCanvasTkAgg\n",
    "from matplotlib.figure import Figure\n",
    "import threading as th\n",
    "import minimalmodbus\n",
    "from skopt import Optimizer\n",
    "from skopt.plots import plot_objective\n",
    "from skopt.plots import plot_evaluations\n",
    "# from simple_pid import PID\n",
    "import os"
   ]
  },
  {
   "cell_type": "code",
   "execution_count": 10,
   "id": "b9f0727a",
   "metadata": {},
   "outputs": [],
   "source": [
    "#temperature control\n",
    "com_hot = minimalmodbus.Instrument('com17', 1, minimalmodbus.MODE_RTU)\n",
    "#ASRL17::INSTR?\n",
    "com_hot.serial.baudrate = 115200"
   ]
  },
  {
   "cell_type": "code",
   "execution_count": 11,
   "id": "9dd19ed5",
   "metadata": {},
   "outputs": [
    {
     "name": "stdout",
     "output_type": "stream",
     "text": [
      "('ASRL1::INSTR', 'ASRL6::INSTR', 'ASRL7::INSTR', 'ASRL13::INSTR', 'ASRL17::INSTR', 'ASRL18::INSTR')\n"
     ]
    }
   ],
   "source": [
    "rm = pyvisa.ResourceManager()\n",
    "print(rm.list_resources()) "
   ]
  },
  {
   "cell_type": "code",
   "execution_count": 12,
   "id": "fd6d4a6d",
   "metadata": {},
   "outputs": [
    {
     "ename": "NoResponseError",
     "evalue": "No communication with the instrument (no answer)",
     "output_type": "error",
     "traceback": [
      "\u001b[1;31m---------------------------------------------------------------------------\u001b[0m",
      "\u001b[1;31mNoResponseError\u001b[0m                           Traceback (most recent call last)",
      "Cell \u001b[1;32mIn[12], line 3\u001b[0m\n\u001b[0;32m      1\u001b[0m \u001b[38;5;66;03m#actually setting the temp\u001b[39;00m\n\u001b[0;32m      2\u001b[0m flo\u001b[38;5;241m=\u001b[39m\u001b[38;5;28mfloat\u001b[39m(\u001b[38;5;241m25\u001b[39m)\n\u001b[1;32m----> 3\u001b[0m \u001b[43mcom_hot\u001b[49m\u001b[38;5;241;43m.\u001b[39;49m\u001b[43mwrite_float\u001b[49m\u001b[43m(\u001b[49m\u001b[38;5;241;43m548\u001b[39;49m\u001b[43m,\u001b[49m\u001b[43mflo\u001b[49m\u001b[43m)\u001b[49m\n",
      "File \u001b[1;32m~\\AppData\\Local\\Programs\\Python\\Python311\\Lib\\site-packages\\minimalmodbus.py:761\u001b[0m, in \u001b[0;36mInstrument.write_float\u001b[1;34m(self, registeraddress, value, number_of_registers, byteorder)\u001b[0m\n\u001b[0;32m    754\u001b[0m _check_numerical(value, description\u001b[38;5;241m=\u001b[39m\u001b[38;5;124m\"\u001b[39m\u001b[38;5;124minput value\u001b[39m\u001b[38;5;124m\"\u001b[39m)\n\u001b[0;32m    755\u001b[0m _check_int(\n\u001b[0;32m    756\u001b[0m     number_of_registers,\n\u001b[0;32m    757\u001b[0m     minvalue\u001b[38;5;241m=\u001b[39m\u001b[38;5;241m2\u001b[39m,\n\u001b[0;32m    758\u001b[0m     maxvalue\u001b[38;5;241m=\u001b[39m\u001b[38;5;241m4\u001b[39m,\n\u001b[0;32m    759\u001b[0m     description\u001b[38;5;241m=\u001b[39m\u001b[38;5;124m\"\u001b[39m\u001b[38;5;124mnumber of registers\u001b[39m\u001b[38;5;124m\"\u001b[39m,\n\u001b[0;32m    760\u001b[0m )\n\u001b[1;32m--> 761\u001b[0m \u001b[38;5;28;43mself\u001b[39;49m\u001b[38;5;241;43m.\u001b[39;49m\u001b[43m_generic_command\u001b[49m\u001b[43m(\u001b[49m\n\u001b[0;32m    762\u001b[0m \u001b[43m    \u001b[49m\u001b[38;5;241;43m16\u001b[39;49m\u001b[43m,\u001b[49m\n\u001b[0;32m    763\u001b[0m \u001b[43m    \u001b[49m\u001b[43mregisteraddress\u001b[49m\u001b[43m,\u001b[49m\n\u001b[0;32m    764\u001b[0m \u001b[43m    \u001b[49m\u001b[43mvalue\u001b[49m\u001b[43m,\u001b[49m\n\u001b[0;32m    765\u001b[0m \u001b[43m    \u001b[49m\u001b[43mnumber_of_registers\u001b[49m\u001b[38;5;241;43m=\u001b[39;49m\u001b[43mnumber_of_registers\u001b[49m\u001b[43m,\u001b[49m\n\u001b[0;32m    766\u001b[0m \u001b[43m    \u001b[49m\u001b[43mbyteorder\u001b[49m\u001b[38;5;241;43m=\u001b[39;49m\u001b[43mbyteorder\u001b[49m\u001b[43m,\u001b[49m\n\u001b[0;32m    767\u001b[0m \u001b[43m    \u001b[49m\u001b[43mpayloadformat\u001b[49m\u001b[38;5;241;43m=\u001b[39;49m\u001b[43m_Payloadformat\u001b[49m\u001b[38;5;241;43m.\u001b[39;49m\u001b[43mFLOAT\u001b[49m\u001b[43m,\u001b[49m\n\u001b[0;32m    768\u001b[0m \u001b[43m\u001b[49m\u001b[43m)\u001b[49m\n",
      "File \u001b[1;32m~\\AppData\\Local\\Programs\\Python\\Python311\\Lib\\site-packages\\minimalmodbus.py:1245\u001b[0m, in \u001b[0;36mInstrument._generic_command\u001b[1;34m(self, functioncode, registeraddress, value, number_of_decimals, number_of_registers, number_of_bits, signed, byteorder, payloadformat)\u001b[0m\n\u001b[0;32m   1232\u001b[0m payload_to_slave \u001b[38;5;241m=\u001b[39m _create_payload(\n\u001b[0;32m   1233\u001b[0m     functioncode,\n\u001b[0;32m   1234\u001b[0m     registeraddress,\n\u001b[1;32m   (...)\u001b[0m\n\u001b[0;32m   1241\u001b[0m     payloadformat,\n\u001b[0;32m   1242\u001b[0m )\n\u001b[0;32m   1244\u001b[0m \u001b[38;5;66;03m# Communicate with instrument\u001b[39;00m\n\u001b[1;32m-> 1245\u001b[0m payload_from_slave \u001b[38;5;241m=\u001b[39m \u001b[38;5;28;43mself\u001b[39;49m\u001b[38;5;241;43m.\u001b[39;49m\u001b[43m_perform_command\u001b[49m\u001b[43m(\u001b[49m\u001b[43mfunctioncode\u001b[49m\u001b[43m,\u001b[49m\u001b[43m \u001b[49m\u001b[43mpayload_to_slave\u001b[49m\u001b[43m)\u001b[49m\n\u001b[0;32m   1247\u001b[0m \u001b[38;5;66;03m# There is no response for broadcasts\u001b[39;00m\n\u001b[0;32m   1248\u001b[0m \u001b[38;5;28;01mif\u001b[39;00m \u001b[38;5;28mself\u001b[39m\u001b[38;5;241m.\u001b[39maddress \u001b[38;5;241m==\u001b[39m _SLAVEADDRESS_BROADCAST:\n",
      "File \u001b[1;32m~\\AppData\\Local\\Programs\\Python\\Python311\\Lib\\site-packages\\minimalmodbus.py:1322\u001b[0m, in \u001b[0;36mInstrument._perform_command\u001b[1;34m(self, functioncode, payload_to_slave)\u001b[0m\n\u001b[0;32m   1320\u001b[0m \u001b[38;5;66;03m# Communicate\u001b[39;00m\n\u001b[0;32m   1321\u001b[0m request_bytes \u001b[38;5;241m=\u001b[39m \u001b[38;5;28mbytes\u001b[39m(request, encoding\u001b[38;5;241m=\u001b[39m\u001b[38;5;124m\"\u001b[39m\u001b[38;5;124mlatin1\u001b[39m\u001b[38;5;124m\"\u001b[39m)\n\u001b[1;32m-> 1322\u001b[0m response_bytes \u001b[38;5;241m=\u001b[39m \u001b[38;5;28;43mself\u001b[39;49m\u001b[38;5;241;43m.\u001b[39;49m\u001b[43m_communicate\u001b[49m\u001b[43m(\u001b[49m\u001b[43mrequest_bytes\u001b[49m\u001b[43m,\u001b[49m\u001b[43m \u001b[49m\u001b[43mnumber_of_bytes_to_read\u001b[49m\u001b[43m)\u001b[49m\n\u001b[0;32m   1323\u001b[0m response \u001b[38;5;241m=\u001b[39m \u001b[38;5;28mstr\u001b[39m(response_bytes, encoding\u001b[38;5;241m=\u001b[39m\u001b[38;5;124m\"\u001b[39m\u001b[38;5;124mlatin1\u001b[39m\u001b[38;5;124m\"\u001b[39m)\n\u001b[0;32m   1325\u001b[0m \u001b[38;5;28;01mif\u001b[39;00m number_of_bytes_to_read \u001b[38;5;241m==\u001b[39m \u001b[38;5;241m0\u001b[39m:\n",
      "File \u001b[1;32m~\\AppData\\Local\\Programs\\Python\\Python311\\Lib\\site-packages\\minimalmodbus.py:1490\u001b[0m, in \u001b[0;36mInstrument._communicate\u001b[1;34m(self, request, number_of_bytes_to_read)\u001b[0m\n\u001b[0;32m   1487\u001b[0m     \u001b[38;5;28mself\u001b[39m\u001b[38;5;241m.\u001b[39m_print_debug(text)\n\u001b[0;32m   1489\u001b[0m \u001b[38;5;28;01mif\u001b[39;00m \u001b[38;5;129;01mnot\u001b[39;00m answer \u001b[38;5;129;01mand\u001b[39;00m number_of_bytes_to_read \u001b[38;5;241m>\u001b[39m \u001b[38;5;241m0\u001b[39m:\n\u001b[1;32m-> 1490\u001b[0m     \u001b[38;5;28;01mraise\u001b[39;00m NoResponseError(\u001b[38;5;124m\"\u001b[39m\u001b[38;5;124mNo communication with the instrument (no answer)\u001b[39m\u001b[38;5;124m\"\u001b[39m)\n\u001b[0;32m   1492\u001b[0m \u001b[38;5;28;01mif\u001b[39;00m number_of_bytes_to_read \u001b[38;5;241m==\u001b[39m \u001b[38;5;241m0\u001b[39m:\n\u001b[0;32m   1493\u001b[0m     \u001b[38;5;28mself\u001b[39m\u001b[38;5;241m.\u001b[39m_print_debug(\n\u001b[0;32m   1494\u001b[0m         \u001b[38;5;124m\"\u001b[39m\u001b[38;5;124mBroadcast delay: Sleeping for \u001b[39m\u001b[38;5;132;01m{}\u001b[39;00m\u001b[38;5;124m s\u001b[39m\u001b[38;5;124m\"\u001b[39m\u001b[38;5;241m.\u001b[39mformat(_BROADCAST_DELAY)\n\u001b[0;32m   1495\u001b[0m     )\n",
      "\u001b[1;31mNoResponseError\u001b[0m: No communication with the instrument (no answer)"
     ]
    }
   ],
   "source": [
    "#actually setting the temp\n",
    "flo=float(25)\n",
    "com_hot.write_float(548,flo)"
   ]
  },
  {
   "cell_type": "code",
   "execution_count": 9,
   "id": "6325325f",
   "metadata": {},
   "outputs": [
    {
     "ename": "NoResponseError",
     "evalue": "No communication with the instrument (no answer)",
     "output_type": "error",
     "traceback": [
      "\u001b[1;31m---------------------------------------------------------------------------\u001b[0m",
      "\u001b[1;31mNoResponseError\u001b[0m                           Traceback (most recent call last)",
      "Cell \u001b[1;32mIn[9], line 2\u001b[0m\n\u001b[0;32m      1\u001b[0m set_temp\u001b[38;5;241m=\u001b[39m\u001b[38;5;241m25\u001b[39m\n\u001b[1;32m----> 2\u001b[0m current_temperature\u001b[38;5;241m=\u001b[39m\u001b[43mcom_hot\u001b[49m\u001b[38;5;241;43m.\u001b[39;49m\u001b[43mread_float\u001b[49m\u001b[43m(\u001b[49m\u001b[38;5;241;43m528\u001b[39;49m\u001b[43m)\u001b[49m\n\u001b[0;32m      3\u001b[0m set_temp\u001b[38;5;241m-\u001b[39mcurrent_temperature\n",
      "File \u001b[1;32m~\\AppData\\Local\\Programs\\Python\\Python311\\Lib\\site-packages\\minimalmodbus.py:712\u001b[0m, in \u001b[0;36mInstrument.read_float\u001b[1;34m(self, registeraddress, functioncode, number_of_registers, byteorder)\u001b[0m\n\u001b[0;32m    704\u001b[0m _check_functioncode(functioncode, [\u001b[38;5;241m3\u001b[39m, \u001b[38;5;241m4\u001b[39m])\n\u001b[0;32m    705\u001b[0m _check_int(\n\u001b[0;32m    706\u001b[0m     number_of_registers,\n\u001b[0;32m    707\u001b[0m     minvalue\u001b[38;5;241m=\u001b[39m\u001b[38;5;241m2\u001b[39m,\n\u001b[0;32m    708\u001b[0m     maxvalue\u001b[38;5;241m=\u001b[39m\u001b[38;5;241m4\u001b[39m,\n\u001b[0;32m    709\u001b[0m     description\u001b[38;5;241m=\u001b[39m\u001b[38;5;124m\"\u001b[39m\u001b[38;5;124mnumber of registers\u001b[39m\u001b[38;5;124m\"\u001b[39m,\n\u001b[0;32m    710\u001b[0m )\n\u001b[0;32m    711\u001b[0m \u001b[38;5;28;01mreturn\u001b[39;00m \u001b[38;5;28mfloat\u001b[39m(\n\u001b[1;32m--> 712\u001b[0m     \u001b[38;5;28;43mself\u001b[39;49m\u001b[38;5;241;43m.\u001b[39;49m\u001b[43m_generic_command\u001b[49m\u001b[43m(\u001b[49m\n\u001b[0;32m    713\u001b[0m \u001b[43m        \u001b[49m\u001b[43mfunctioncode\u001b[49m\u001b[43m,\u001b[49m\n\u001b[0;32m    714\u001b[0m \u001b[43m        \u001b[49m\u001b[43mregisteraddress\u001b[49m\u001b[43m,\u001b[49m\n\u001b[0;32m    715\u001b[0m \u001b[43m        \u001b[49m\u001b[43mnumber_of_registers\u001b[49m\u001b[38;5;241;43m=\u001b[39;49m\u001b[43mnumber_of_registers\u001b[49m\u001b[43m,\u001b[49m\n\u001b[0;32m    716\u001b[0m \u001b[43m        \u001b[49m\u001b[43mbyteorder\u001b[49m\u001b[38;5;241;43m=\u001b[39;49m\u001b[43mbyteorder\u001b[49m\u001b[43m,\u001b[49m\n\u001b[0;32m    717\u001b[0m \u001b[43m        \u001b[49m\u001b[43mpayloadformat\u001b[49m\u001b[38;5;241;43m=\u001b[39;49m\u001b[43m_Payloadformat\u001b[49m\u001b[38;5;241;43m.\u001b[39;49m\u001b[43mFLOAT\u001b[49m\u001b[43m,\u001b[49m\n\u001b[0;32m    718\u001b[0m \u001b[43m    \u001b[49m\u001b[43m)\u001b[49m\n\u001b[0;32m    719\u001b[0m )\n",
      "File \u001b[1;32m~\\AppData\\Local\\Programs\\Python\\Python311\\Lib\\site-packages\\minimalmodbus.py:1245\u001b[0m, in \u001b[0;36mInstrument._generic_command\u001b[1;34m(self, functioncode, registeraddress, value, number_of_decimals, number_of_registers, number_of_bits, signed, byteorder, payloadformat)\u001b[0m\n\u001b[0;32m   1232\u001b[0m payload_to_slave \u001b[38;5;241m=\u001b[39m _create_payload(\n\u001b[0;32m   1233\u001b[0m     functioncode,\n\u001b[0;32m   1234\u001b[0m     registeraddress,\n\u001b[1;32m   (...)\u001b[0m\n\u001b[0;32m   1241\u001b[0m     payloadformat,\n\u001b[0;32m   1242\u001b[0m )\n\u001b[0;32m   1244\u001b[0m \u001b[38;5;66;03m# Communicate with instrument\u001b[39;00m\n\u001b[1;32m-> 1245\u001b[0m payload_from_slave \u001b[38;5;241m=\u001b[39m \u001b[38;5;28;43mself\u001b[39;49m\u001b[38;5;241;43m.\u001b[39;49m\u001b[43m_perform_command\u001b[49m\u001b[43m(\u001b[49m\u001b[43mfunctioncode\u001b[49m\u001b[43m,\u001b[49m\u001b[43m \u001b[49m\u001b[43mpayload_to_slave\u001b[49m\u001b[43m)\u001b[49m\n\u001b[0;32m   1247\u001b[0m \u001b[38;5;66;03m# There is no response for broadcasts\u001b[39;00m\n\u001b[0;32m   1248\u001b[0m \u001b[38;5;28;01mif\u001b[39;00m \u001b[38;5;28mself\u001b[39m\u001b[38;5;241m.\u001b[39maddress \u001b[38;5;241m==\u001b[39m _SLAVEADDRESS_BROADCAST:\n",
      "File \u001b[1;32m~\\AppData\\Local\\Programs\\Python\\Python311\\Lib\\site-packages\\minimalmodbus.py:1322\u001b[0m, in \u001b[0;36mInstrument._perform_command\u001b[1;34m(self, functioncode, payload_to_slave)\u001b[0m\n\u001b[0;32m   1320\u001b[0m \u001b[38;5;66;03m# Communicate\u001b[39;00m\n\u001b[0;32m   1321\u001b[0m request_bytes \u001b[38;5;241m=\u001b[39m \u001b[38;5;28mbytes\u001b[39m(request, encoding\u001b[38;5;241m=\u001b[39m\u001b[38;5;124m\"\u001b[39m\u001b[38;5;124mlatin1\u001b[39m\u001b[38;5;124m\"\u001b[39m)\n\u001b[1;32m-> 1322\u001b[0m response_bytes \u001b[38;5;241m=\u001b[39m \u001b[38;5;28;43mself\u001b[39;49m\u001b[38;5;241;43m.\u001b[39;49m\u001b[43m_communicate\u001b[49m\u001b[43m(\u001b[49m\u001b[43mrequest_bytes\u001b[49m\u001b[43m,\u001b[49m\u001b[43m \u001b[49m\u001b[43mnumber_of_bytes_to_read\u001b[49m\u001b[43m)\u001b[49m\n\u001b[0;32m   1323\u001b[0m response \u001b[38;5;241m=\u001b[39m \u001b[38;5;28mstr\u001b[39m(response_bytes, encoding\u001b[38;5;241m=\u001b[39m\u001b[38;5;124m\"\u001b[39m\u001b[38;5;124mlatin1\u001b[39m\u001b[38;5;124m\"\u001b[39m)\n\u001b[0;32m   1325\u001b[0m \u001b[38;5;28;01mif\u001b[39;00m number_of_bytes_to_read \u001b[38;5;241m==\u001b[39m \u001b[38;5;241m0\u001b[39m:\n",
      "File \u001b[1;32m~\\AppData\\Local\\Programs\\Python\\Python311\\Lib\\site-packages\\minimalmodbus.py:1490\u001b[0m, in \u001b[0;36mInstrument._communicate\u001b[1;34m(self, request, number_of_bytes_to_read)\u001b[0m\n\u001b[0;32m   1487\u001b[0m     \u001b[38;5;28mself\u001b[39m\u001b[38;5;241m.\u001b[39m_print_debug(text)\n\u001b[0;32m   1489\u001b[0m \u001b[38;5;28;01mif\u001b[39;00m \u001b[38;5;129;01mnot\u001b[39;00m answer \u001b[38;5;129;01mand\u001b[39;00m number_of_bytes_to_read \u001b[38;5;241m>\u001b[39m \u001b[38;5;241m0\u001b[39m:\n\u001b[1;32m-> 1490\u001b[0m     \u001b[38;5;28;01mraise\u001b[39;00m NoResponseError(\u001b[38;5;124m\"\u001b[39m\u001b[38;5;124mNo communication with the instrument (no answer)\u001b[39m\u001b[38;5;124m\"\u001b[39m)\n\u001b[0;32m   1492\u001b[0m \u001b[38;5;28;01mif\u001b[39;00m number_of_bytes_to_read \u001b[38;5;241m==\u001b[39m \u001b[38;5;241m0\u001b[39m:\n\u001b[0;32m   1493\u001b[0m     \u001b[38;5;28mself\u001b[39m\u001b[38;5;241m.\u001b[39m_print_debug(\n\u001b[0;32m   1494\u001b[0m         \u001b[38;5;124m\"\u001b[39m\u001b[38;5;124mBroadcast delay: Sleeping for \u001b[39m\u001b[38;5;132;01m{}\u001b[39;00m\u001b[38;5;124m s\u001b[39m\u001b[38;5;124m\"\u001b[39m\u001b[38;5;241m.\u001b[39mformat(_BROADCAST_DELAY)\n\u001b[0;32m   1495\u001b[0m     )\n",
      "\u001b[1;31mNoResponseError\u001b[0m: No communication with the instrument (no answer)"
     ]
    }
   ],
   "source": [
    "set_temp=25\n",
    "current_temperature=com_hot.read_float(528)\n",
    "set_temp-current_temperature"
   ]
  },
  {
   "cell_type": "code",
   "execution_count": null,
   "id": "985dff76",
   "metadata": {},
   "outputs": [],
   "source": []
  }
 ],
 "metadata": {
  "kernelspec": {
   "display_name": "Python 3 (ipykernel)",
   "language": "python",
   "name": "python3"
  },
  "language_info": {
   "codemirror_mode": {
    "name": "ipython",
    "version": 3
   },
   "file_extension": ".py",
   "mimetype": "text/x-python",
   "name": "python",
   "nbconvert_exporter": "python",
   "pygments_lexer": "ipython3",
   "version": "3.11.3"
  }
 },
 "nbformat": 4,
 "nbformat_minor": 5
}
