{
 "cells": [
  {
   "cell_type": "code",
   "execution_count": null,
   "id": "15a7c782",
   "metadata": {},
   "outputs": [],
   "source": [
    "rate_i_flush = 60 #uL/min\n",
    "dispense_vol_i_flush = 20 #uL(this value sits between 10 and 20uL)\n",
    "\n",
    "#Function to start pumps through nozzle \n",
    "\n",
    "single_pump(sy_dia, res_vol, 0, rate_i_flush, dispense_vol_i_flush)\n",
    "\n",
    "time.sleep(0.1)\n",
    "\n",
    "single_pump(sy_dia, res_vol, 1, rate_i_flush, dispense_vol_i_flush)\n"
   ]
  }
 ],
 "metadata": {
  "kernelspec": {
   "display_name": "Python 3 (ipykernel)",
   "language": "python",
   "name": "python3"
  },
  "language_info": {
   "codemirror_mode": {
    "name": "ipython",
    "version": 3
   },
   "file_extension": ".py",
   "mimetype": "text/x-python",
   "name": "python",
   "nbconvert_exporter": "python",
   "pygments_lexer": "ipython3",
   "version": "3.11.3"
  }
 },
 "nbformat": 4,
 "nbformat_minor": 5
}
