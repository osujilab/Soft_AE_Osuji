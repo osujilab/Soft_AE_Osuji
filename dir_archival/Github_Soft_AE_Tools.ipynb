{
 "cells": [
  {
   "cell_type": "markdown",
   "id": "40125b3b",
   "metadata": {},
   "source": [
    "**Autonomous Experimentation Setup -  Dropcasting Nanoparticles**"
   ]
  },
  {
   "cell_type": "markdown",
   "id": "a4e0d7cc",
   "metadata": {},
   "source": [
    "This notebook explains the process of how we set up the Autonomous Experimentation for Dropcasting and Analyzing the Nanoparticles in the Osuji's Lab. \n"
   ]
  },
  {
   "cell_type": "markdown",
   "id": "0c17034a",
   "metadata": {},
   "source": [
    "Before getting started, let's import all the pacakges that needed. \n",
    "\n",
    "Pyvisa - python pacakge enables communication between python programs and electronic instruments.                                \n",
    "Instal pyvisa via: pip install -U pyvisa-py, in command prompt."
   ]
  },
  {
   "cell_type": "code",
   "execution_count": 1,
   "id": "c9beb12e",
   "metadata": {},
   "outputs": [
    {
     "name": "stderr",
     "output_type": "stream",
     "text": [
      "C:\\Users\\Osuji\\AppData\\Local\\Temp\\ipykernel_15160\\3788331259.py:4: DeprecationWarning: 'cgi' is deprecated and slated for removal in Python 3.13\n",
      "  from cgi import test\n"
     ]
    }
   ],
   "source": [
    "#Import Packages\n",
    "\n",
    "\n",
    "from cgi import test\n",
    "from optparse import Values\n",
    "from sqlite3 import Row\n",
    "from time import time\n",
    "import tkinter as tk\n",
    "from turtle import width\n",
    "import pyvisa\n",
    "import time \n",
    "# import keyboard\n",
    "import time\n",
    "import cv2\n",
    "from PIL import Image, ImageTk\n",
    "from webbrowser import get\n",
    "import numpy as np\n",
    "import datetime as dt\n",
    "import matplotlib.pyplot as plt\n",
    "import matplotlib.animation as animation\n",
    "from matplotlib.backends.backend_tkagg import FigureCanvasTkAgg\n",
    "from matplotlib.figure import Figure\n",
    "import threading as th\n",
    "import minimalmodbus\n",
    "from skopt import Optimizer\n",
    "from skopt.plots import plot_objective\n",
    "from skopt.plots import plot_evaluations\n",
    "# from simple_pid import PID\n",
    "import os"
   ]
  },
  {
   "cell_type": "markdown",
   "id": "69aa3b5d",
   "metadata": {},
   "source": [
    "Create a resource manager object, which is responsible for managing connections to and communication with various instruments connected to your computer and print all connected resouces."
   ]
  },
  {
   "cell_type": "code",
   "execution_count": 2,
   "id": "8cc8aa32",
   "metadata": {},
   "outputs": [],
   "source": [
    "rm = pyvisa.ResourceManager()"
   ]
  },
  {
   "cell_type": "code",
   "execution_count": 7,
   "id": "70e8685b",
   "metadata": {},
   "outputs": [
    {
     "name": "stdout",
     "output_type": "stream",
     "text": [
      "('ASRL1::INSTR', 'ASRL6::INSTR', 'ASRL13::INSTR', 'ASRL18::INSTR')\n"
     ]
    }
   ],
   "source": [
    "print(rm.list_resources()) "
   ]
  },
  {
   "cell_type": "markdown",
   "id": "df70a598",
   "metadata": {},
   "source": [
    "Now establish a communication with a specific instrument connected to the port"
   ]
  },
  {
   "cell_type": "code",
   "execution_count": 6,
   "id": "eb5e0e53",
   "metadata": {},
   "outputs": [
    {
     "ename": "VisaIOError",
     "evalue": "VI_ERROR_RSRC_NFOUND (-1073807343): Insufficient location information or the requested device or resource is not present in the system.",
     "output_type": "error",
     "traceback": [
      "\u001b[1;31m---------------------------------------------------------------------------\u001b[0m",
      "\u001b[1;31mVisaIOError\u001b[0m                               Traceback (most recent call last)",
      "Cell \u001b[1;32mIn[6], line 6\u001b[0m\n\u001b[0;32m      3\u001b[0m com_pxpy\u001b[38;5;241m.\u001b[39mbaud_rate \u001b[38;5;241m=\u001b[39m \u001b[38;5;241m921600\u001b[39m \u001b[38;5;66;03m#fixed\u001b[39;00m\n\u001b[0;32m      5\u001b[0m \u001b[38;5;66;03m#syringe pump\u001b[39;00m\n\u001b[1;32m----> 6\u001b[0m com_syr \u001b[38;5;241m=\u001b[39m \u001b[43mrm\u001b[49m\u001b[38;5;241;43m.\u001b[39;49m\u001b[43mopen_resource\u001b[49m\u001b[43m(\u001b[49m\u001b[38;5;124;43m'\u001b[39;49m\u001b[38;5;124;43mASRL4::INSTR\u001b[39;49m\u001b[38;5;124;43m'\u001b[39;49m\u001b[43m)\u001b[49m\n\u001b[0;32m      7\u001b[0m \u001b[38;5;66;03m# com_syr.baud_rate = 115200\u001b[39;00m\n\u001b[0;32m      8\u001b[0m \n\u001b[0;32m      9\u001b[0m \u001b[38;5;66;03m#temperature control\u001b[39;00m\n\u001b[0;32m     10\u001b[0m \u001b[38;5;66;03m#com_hot = minimalmodbus.Instrument('com17', 1, minimalmodbus.MODE_RTU)\u001b[39;00m\n\u001b[0;32m     11\u001b[0m \u001b[38;5;66;03m#com_hot.serial.baudrate = 115200\u001b[39;00m\n",
      "File \u001b[1;32m~\\AppData\\Local\\Programs\\Python\\Python311\\Lib\\site-packages\\pyvisa\\highlevel.py:3284\u001b[0m, in \u001b[0;36mResourceManager.open_resource\u001b[1;34m(self, resource_name, access_mode, open_timeout, resource_pyclass, **kwargs)\u001b[0m\n\u001b[0;32m   3278\u001b[0m     \u001b[38;5;28;01mif\u001b[39;00m \u001b[38;5;129;01mnot\u001b[39;00m present:\n\u001b[0;32m   3279\u001b[0m         \u001b[38;5;28;01mraise\u001b[39;00m \u001b[38;5;167;01mValueError\u001b[39;00m(\n\u001b[0;32m   3280\u001b[0m             \u001b[38;5;124m\"\u001b[39m\u001b[38;5;132;01m%r\u001b[39;00m\u001b[38;5;124m is not a valid attribute for type \u001b[39m\u001b[38;5;132;01m%s\u001b[39;00m\u001b[38;5;124m\"\u001b[39m\n\u001b[0;32m   3281\u001b[0m             \u001b[38;5;241m%\u001b[39m (key, res\u001b[38;5;241m.\u001b[39m\u001b[38;5;18m__class__\u001b[39m\u001b[38;5;241m.\u001b[39m\u001b[38;5;18m__name__\u001b[39m)\n\u001b[0;32m   3282\u001b[0m         )\n\u001b[1;32m-> 3284\u001b[0m \u001b[43mres\u001b[49m\u001b[38;5;241;43m.\u001b[39;49m\u001b[43mopen\u001b[49m\u001b[43m(\u001b[49m\u001b[43maccess_mode\u001b[49m\u001b[43m,\u001b[49m\u001b[43m \u001b[49m\u001b[43mopen_timeout\u001b[49m\u001b[43m)\u001b[49m\n\u001b[0;32m   3286\u001b[0m \u001b[38;5;28;01mfor\u001b[39;00m key, value \u001b[38;5;129;01min\u001b[39;00m kwargs\u001b[38;5;241m.\u001b[39mitems():\n\u001b[0;32m   3287\u001b[0m     \u001b[38;5;28msetattr\u001b[39m(res, key, value)\n",
      "File \u001b[1;32m~\\AppData\\Local\\Programs\\Python\\Python311\\Lib\\site-packages\\pyvisa\\resources\\resource.py:282\u001b[0m, in \u001b[0;36mResource.open\u001b[1;34m(self, access_mode, open_timeout)\u001b[0m\n\u001b[0;32m    278\u001b[0m logger\u001b[38;5;241m.\u001b[39mdebug(\u001b[38;5;124m\"\u001b[39m\u001b[38;5;132;01m%s\u001b[39;00m\u001b[38;5;124m - opening ...\u001b[39m\u001b[38;5;124m\"\u001b[39m, \u001b[38;5;28mself\u001b[39m\u001b[38;5;241m.\u001b[39m_resource_name, extra\u001b[38;5;241m=\u001b[39m\u001b[38;5;28mself\u001b[39m\u001b[38;5;241m.\u001b[39m_logging_extra)\n\u001b[0;32m    279\u001b[0m \u001b[38;5;28;01mwith\u001b[39;00m \u001b[38;5;28mself\u001b[39m\u001b[38;5;241m.\u001b[39m_resource_manager\u001b[38;5;241m.\u001b[39mignore_warning(\n\u001b[0;32m    280\u001b[0m     constants\u001b[38;5;241m.\u001b[39mStatusCode\u001b[38;5;241m.\u001b[39msuccess_device_not_present\n\u001b[0;32m    281\u001b[0m ):\n\u001b[1;32m--> 282\u001b[0m     \u001b[38;5;28mself\u001b[39m\u001b[38;5;241m.\u001b[39msession, status \u001b[38;5;241m=\u001b[39m \u001b[38;5;28;43mself\u001b[39;49m\u001b[38;5;241;43m.\u001b[39;49m\u001b[43m_resource_manager\u001b[49m\u001b[38;5;241;43m.\u001b[39;49m\u001b[43mopen_bare_resource\u001b[49m\u001b[43m(\u001b[49m\n\u001b[0;32m    283\u001b[0m \u001b[43m        \u001b[49m\u001b[38;5;28;43mself\u001b[39;49m\u001b[38;5;241;43m.\u001b[39;49m\u001b[43m_resource_name\u001b[49m\u001b[43m,\u001b[49m\u001b[43m \u001b[49m\u001b[43maccess_mode\u001b[49m\u001b[43m,\u001b[49m\u001b[43m \u001b[49m\u001b[43mopen_timeout\u001b[49m\n\u001b[0;32m    284\u001b[0m \u001b[43m    \u001b[49m\u001b[43m)\u001b[49m\n\u001b[0;32m    286\u001b[0m     \u001b[38;5;28;01mif\u001b[39;00m status \u001b[38;5;241m==\u001b[39m constants\u001b[38;5;241m.\u001b[39mStatusCode\u001b[38;5;241m.\u001b[39msuccess_device_not_present:\n\u001b[0;32m    287\u001b[0m         \u001b[38;5;66;03m# The device was not ready when we opened the session.\u001b[39;00m\n\u001b[0;32m    288\u001b[0m         \u001b[38;5;66;03m# Now it gets five seconds more to become ready.\u001b[39;00m\n\u001b[0;32m    289\u001b[0m         \u001b[38;5;66;03m# Every 0.1 seconds we probe it with viClear.\u001b[39;00m\n\u001b[0;32m    290\u001b[0m         start_time \u001b[38;5;241m=\u001b[39m time\u001b[38;5;241m.\u001b[39mtime()\n",
      "File \u001b[1;32m~\\AppData\\Local\\Programs\\Python\\Python311\\Lib\\site-packages\\pyvisa\\highlevel.py:3209\u001b[0m, in \u001b[0;36mResourceManager.open_bare_resource\u001b[1;34m(self, resource_name, access_mode, open_timeout)\u001b[0m\n\u001b[0;32m   3180\u001b[0m \u001b[38;5;28;01mdef\u001b[39;00m \u001b[38;5;21mopen_bare_resource\u001b[39m(\n\u001b[0;32m   3181\u001b[0m     \u001b[38;5;28mself\u001b[39m,\n\u001b[0;32m   3182\u001b[0m     resource_name: \u001b[38;5;28mstr\u001b[39m,\n\u001b[0;32m   3183\u001b[0m     access_mode: constants\u001b[38;5;241m.\u001b[39mAccessModes \u001b[38;5;241m=\u001b[39m constants\u001b[38;5;241m.\u001b[39mAccessModes\u001b[38;5;241m.\u001b[39mno_lock,\n\u001b[0;32m   3184\u001b[0m     open_timeout: \u001b[38;5;28mint\u001b[39m \u001b[38;5;241m=\u001b[39m constants\u001b[38;5;241m.\u001b[39mVI_TMO_IMMEDIATE,\n\u001b[0;32m   3185\u001b[0m ) \u001b[38;5;241m-\u001b[39m\u001b[38;5;241m>\u001b[39m Tuple[VISASession, StatusCode]:\n\u001b[0;32m   3186\u001b[0m \u001b[38;5;250m    \u001b[39m\u001b[38;5;124;03m\"\"\"Open the specified resource without wrapping into a class.\u001b[39;00m\n\u001b[0;32m   3187\u001b[0m \n\u001b[0;32m   3188\u001b[0m \u001b[38;5;124;03m    Parameters\u001b[39;00m\n\u001b[1;32m   (...)\u001b[0m\n\u001b[0;32m   3207\u001b[0m \n\u001b[0;32m   3208\u001b[0m \u001b[38;5;124;03m    \"\"\"\u001b[39;00m\n\u001b[1;32m-> 3209\u001b[0m     \u001b[38;5;28;01mreturn\u001b[39;00m \u001b[38;5;28;43mself\u001b[39;49m\u001b[38;5;241;43m.\u001b[39;49m\u001b[43mvisalib\u001b[49m\u001b[38;5;241;43m.\u001b[39;49m\u001b[43mopen\u001b[49m\u001b[43m(\u001b[49m\u001b[38;5;28;43mself\u001b[39;49m\u001b[38;5;241;43m.\u001b[39;49m\u001b[43msession\u001b[49m\u001b[43m,\u001b[49m\u001b[43m \u001b[49m\u001b[43mresource_name\u001b[49m\u001b[43m,\u001b[49m\u001b[43m \u001b[49m\u001b[43maccess_mode\u001b[49m\u001b[43m,\u001b[49m\u001b[43m \u001b[49m\u001b[43mopen_timeout\u001b[49m\u001b[43m)\u001b[49m\n",
      "File \u001b[1;32m~\\AppData\\Local\\Programs\\Python\\Python311\\Lib\\site-packages\\pyvisa\\ctwrapper\\functions.py:1851\u001b[0m, in \u001b[0;36mopen\u001b[1;34m(library, session, resource_name, access_mode, open_timeout)\u001b[0m\n\u001b[0;32m   1847\u001b[0m out_session \u001b[38;5;241m=\u001b[39m ViSession()\n\u001b[0;32m   1849\u001b[0m \u001b[38;5;66;03m# [ViSession, ViRsrc, ViAccessMode, ViUInt32, ViPSession]\u001b[39;00m\n\u001b[0;32m   1850\u001b[0m \u001b[38;5;66;03m# ViRsrc converts from (str, unicode, bytes) to bytes\u001b[39;00m\n\u001b[1;32m-> 1851\u001b[0m ret \u001b[38;5;241m=\u001b[39m \u001b[43mlibrary\u001b[49m\u001b[38;5;241;43m.\u001b[39;49m\u001b[43mviOpen\u001b[49m\u001b[43m(\u001b[49m\n\u001b[0;32m   1852\u001b[0m \u001b[43m    \u001b[49m\u001b[43msession\u001b[49m\u001b[43m,\u001b[49m\u001b[43m \u001b[49m\u001b[43mresource_name\u001b[49m\u001b[43m,\u001b[49m\u001b[43m \u001b[49m\u001b[43maccess_mode\u001b[49m\u001b[43m,\u001b[49m\u001b[43m \u001b[49m\u001b[43mopen_timeout\u001b[49m\u001b[43m,\u001b[49m\u001b[43m \u001b[49m\u001b[43mbyref\u001b[49m\u001b[43m(\u001b[49m\u001b[43mout_session\u001b[49m\u001b[43m)\u001b[49m\n\u001b[0;32m   1853\u001b[0m \u001b[43m\u001b[49m\u001b[43m)\u001b[49m\n\u001b[0;32m   1854\u001b[0m \u001b[38;5;28;01mreturn\u001b[39;00m out_session\u001b[38;5;241m.\u001b[39mvalue, ret\n",
      "File \u001b[1;32m~\\AppData\\Local\\Programs\\Python\\Python311\\Lib\\site-packages\\pyvisa\\ctwrapper\\highlevel.py:226\u001b[0m, in \u001b[0;36mIVIVisaLibrary._return_handler\u001b[1;34m(self, ret_value, func, arguments)\u001b[0m\n\u001b[0;32m    223\u001b[0m         \u001b[38;5;66;03m# Set session back to a safe value\u001b[39;00m\n\u001b[0;32m    224\u001b[0m         session \u001b[38;5;241m=\u001b[39m \u001b[38;5;28;01mNone\u001b[39;00m\n\u001b[1;32m--> 226\u001b[0m \u001b[38;5;28;01mreturn\u001b[39;00m \u001b[38;5;28;43mself\u001b[39;49m\u001b[38;5;241;43m.\u001b[39;49m\u001b[43mhandle_return_value\u001b[49m\u001b[43m(\u001b[49m\u001b[43msession\u001b[49m\u001b[43m,\u001b[49m\u001b[43m \u001b[49m\u001b[43mret_value\u001b[49m\u001b[43m)\u001b[49m\n",
      "File \u001b[1;32m~\\AppData\\Local\\Programs\\Python\\Python311\\Lib\\site-packages\\pyvisa\\highlevel.py:251\u001b[0m, in \u001b[0;36mVisaLibraryBase.handle_return_value\u001b[1;34m(self, session, status_code)\u001b[0m\n\u001b[0;32m    248\u001b[0m     \u001b[38;5;28mself\u001b[39m\u001b[38;5;241m.\u001b[39m_last_status_in_session[session] \u001b[38;5;241m=\u001b[39m rv\n\u001b[0;32m    250\u001b[0m \u001b[38;5;28;01mif\u001b[39;00m rv \u001b[38;5;241m<\u001b[39m \u001b[38;5;241m0\u001b[39m:\n\u001b[1;32m--> 251\u001b[0m     \u001b[38;5;28;01mraise\u001b[39;00m errors\u001b[38;5;241m.\u001b[39mVisaIOError(rv)\n\u001b[0;32m    253\u001b[0m \u001b[38;5;28;01mif\u001b[39;00m rv \u001b[38;5;129;01min\u001b[39;00m \u001b[38;5;28mself\u001b[39m\u001b[38;5;241m.\u001b[39missue_warning_on:\n\u001b[0;32m    254\u001b[0m     \u001b[38;5;28;01mif\u001b[39;00m session \u001b[38;5;129;01mand\u001b[39;00m rv \u001b[38;5;129;01mnot\u001b[39;00m \u001b[38;5;129;01min\u001b[39;00m \u001b[38;5;28mself\u001b[39m\u001b[38;5;241m.\u001b[39m_ignore_warning_in_session[session]:\n",
      "\u001b[1;31mVisaIOError\u001b[0m: VI_ERROR_RSRC_NFOUND (-1073807343): Insufficient location information or the requested device or resource is not present in the system."
     ]
    }
   ],
   "source": [
    "#ASRL7 = Linear Stage\n",
    "com_pxpy = rm.open_resource('ASRL7::INSTR')\n",
    "com_pxpy.baud_rate = 921600 #fixed\n",
    "\n",
    "#syringe pump\n",
    "com_syr = rm.open_resource('ASRL4::INSTR')\n",
    "# com_syr.baud_rate = 115200\n",
    "\n",
    "#temperature control\n",
    "#com_hot = minimalmodbus.Instrument('com17', 1, minimalmodbus.MODE_RTU)\n",
    "#com_hot.serial.baudrate = 115200"
   ]
  },
  {
   "cell_type": "markdown",
   "id": "7c27a4b5",
   "metadata": {},
   "source": [
    "**Setup the Motion Controller**\n",
    "\n",
    "Instruct motion controller to enable motion for axis 1 and axis 2. Identify the live position of motion controller and print it."
   ]
  },
  {
   "cell_type": "code",
   "execution_count": 25,
   "id": "5d0f3403",
   "metadata": {},
   "outputs": [
    {
     "ename": "NameError",
     "evalue": "name 'com_pxpy' is not defined",
     "output_type": "error",
     "traceback": [
      "\u001b[1;31m---------------------------------------------------------------------------\u001b[0m",
      "\u001b[1;31mNameError\u001b[0m                                 Traceback (most recent call last)",
      "Cell \u001b[1;32mIn[25], line 2\u001b[0m\n\u001b[0;32m      1\u001b[0m \u001b[38;5;66;03m#Turns on Motion Controller\u001b[39;00m\n\u001b[1;32m----> 2\u001b[0m \u001b[43mcom_pxpy\u001b[49m\u001b[38;5;241m.\u001b[39mwrite(\u001b[38;5;124m'\u001b[39m\u001b[38;5;124m1MO\u001b[39m\u001b[38;5;124m'\u001b[39m)\n\u001b[0;32m      3\u001b[0m com_pxpy\u001b[38;5;241m.\u001b[39mwrite(\u001b[38;5;124m'\u001b[39m\u001b[38;5;124m2MO\u001b[39m\u001b[38;5;124m'\u001b[39m)\n\u001b[0;32m      5\u001b[0m \u001b[38;5;66;03m#Identify current Motion Controller position and print\u001b[39;00m\n",
      "\u001b[1;31mNameError\u001b[0m: name 'com_pxpy' is not defined"
     ]
    }
   ],
   "source": [
    "#Turns on Motion Controller\n",
    "com_pxpy.write('1MO')\n",
    "com_pxpy.write('2MO')\n",
    "\n",
    "#Identify current Motion Controller position and print\n",
    "live_position_x_t = com_pxpy.query_ascii_values('1TP?')\n",
    "live_position_x = ''.join(str(element) for element in live_position_x_t)\n",
    "live_position_y_t = com_pxpy.query_ascii_values('2TP?')\n",
    "live_position_y = ''.join(str(element) for element in live_position_y_t)\n",
    "print('(x,y):')\n",
    "print(live_position_x, live_position_y)\n"
   ]
  },
  {
   "cell_type": "markdown",
   "id": "de396256",
   "metadata": {},
   "source": [
    "Now define a function to command motion controller to move to a specified position"
   ]
  },
  {
   "cell_type": "code",
   "execution_count": null,
   "id": "0c35dbff",
   "metadata": {},
   "outputs": [],
   "source": [
    "def move_to(position_x, position_y):\n",
    "    position_x = str(position_x)\n",
    "    position_y = str(position_y)\n",
    "    com_pxpy.write('1PA'+position_x)\n",
    "    time.sleep(0.1)              \n",
    "    com_pxpy.write('2PA'+position_y)\n",
    "    time.sleep(0.1)"
   ]
  },
  {
   "cell_type": "markdown",
   "id": "e66afcf2",
   "metadata": {},
   "source": [
    "Defining a position where syringe alligns to the flush position and check by identifying the syringe position"
   ]
  },
  {
   "cell_type": "code",
   "execution_count": null,
   "id": "3c2fc2f3",
   "metadata": {},
   "outputs": [],
   "source": [
    "move_to(-40,-40)"
   ]
  },
  {
   "cell_type": "code",
   "execution_count": null,
   "id": "87f8bf64",
   "metadata": {},
   "outputs": [],
   "source": [
    "#Identifying the Syringe position\n",
    "syringe_position_x = com_pxpy.query_ascii_values('1TP?')\n",
    "syringe_position_x = ''.join(str(element) for element in syringe_position_x)\n",
    "syringe_position_y = com_pxpy.query_ascii_values('2TP?')\n",
    "syringe_position_y = ''.join(str(element) for element in syringe_position_y)\n",
    "print(syringe_position_x,syringe_position_y)"
   ]
  },
  {
   "cell_type": "markdown",
   "id": "b655cf13",
   "metadata": {},
   "source": [
    "**Setup the Syringe Pumping**"
   ]
  },
  {
   "cell_type": "markdown",
   "id": "935cd496",
   "metadata": {},
   "source": [
    "*First step is to initialize the syringe parameters*:\n",
    "\n",
    "consider five syringe parameters: \n",
    "\n",
    "syringe diameter (mm) - we used hamiliton glass syringes 81520\n",
    "\n",
    "reservior volume (ml) - usually ~5 or any integer\n",
    "\n",
    "pump ID- pump number, the way we identified is bottom syringe is named as \"0\", and top syringe is named as \"1\"\n",
    "\n",
    "infusion rate- pump rate in ul(microliter)/min (format: xx.x) -float, 1 decimal place\n",
    "\n",
    "total volume to be dispensed- volume to be pumped at defined rate (format: xxx.x) - float, 1 decimal place\n",
    "\n",
    "*Second step is to define a function to execute syring pumping*:\n",
    "\n",
    "sends a series of commands to the syringe pump (com_syr.write()) to set up various parameters for pumping. After setting up the parameters, it sends a command to start the pumping procedure (irun command)."
   ]
  },
  {
   "cell_type": "code",
   "execution_count": null,
   "id": "e14cbf97",
   "metadata": {},
   "outputs": [],
   "source": [
    "#Initialize syringe parameters\n",
    "sy_dia = 10.3 #mm \n",
    "res_vol = 4 #mL \n",
    "dispense_time = t_d = 30 #s\n",
    "total_dispense_vol = V_d = 16 #uL\n",
    "Q_d = 60 * (V_d/t_d) #mL/min\n",
    "evaporation_time = e_t = 30 #=  18000 #s\n",
    "sample_distance = 20 #mm #center-center distance of droplets"
   ]
  },
  {
   "cell_type": "code",
   "execution_count": null,
   "id": "a1ef135a",
   "metadata": {},
   "outputs": [],
   "source": [
    "#Defining an operation that executes the pumping procedure\n",
    "def single_pump(sy_dia, res_vol, ID, rate, dispense_vol):\n",
    "    com_syr.write(str(ID) + 'svolume ' + str(res_vol) + ' ml')\n",
    "    time.sleep(0.1)\n",
    "\n",
    "    com_syr.write(str(ID) + 'diameter ' + str(float(sy_dia)))\n",
    "    time.sleep(0.1)\n",
    "\n",
    "    com_syr.write(str(ID) + 'irate ' + str(float(rate)) + ' ul/min')\n",
    "    time.sleep(0.1)\n",
    "\n",
    "    com_syr.write(str(ID) + 'tvolume ' + str(float(dispense_vol)) + ' ul')\n",
    "    time.sleep(0.1)\n",
    "\n",
    "    com_syr.write(str(ID) + 'irun')"
   ]
  },
  {
   "cell_type": "markdown",
   "id": "210f5a9f",
   "metadata": {},
   "source": [
    "**Setup the Initial Flushing**"
   ]
  },
  {
   "cell_type": "markdown",
   "id": "5b23b28f",
   "metadata": {},
   "source": [
    "Initial flushing fills the tubing with liquid. To set it up, the volume for flushing needs to be initialized first\n",
    "\n",
    "Volume for flushing is calculated based on this:\n",
    "\n",
    "Inner diameter of tubing is 1/32”\n",
    "\n",
    "Radius = 1/64 Inch =  0.396875 mm\n",
    "\n",
    "Volume of tubing = pi* R ** 2* L = 0.495 * L (mm ** 3)\n",
    "\n",
    "V = N (mm ** 3) = N * 0.001 mL =  0.495 * L *  0.001 mL\n"
   ]
  },
  {
   "cell_type": "code",
   "execution_count": null,
   "id": "7ac5f1a5",
   "metadata": {},
   "outputs": [],
   "source": [
    "L_pipes = 400 #mm\n",
    "V_flush_mL = 0.495 * L_pipes * 0.001 #mL #1/16 system\n",
    "V_flush_uL = V_flush_mL * 1000 # Convert to uL\n",
    "\n",
    "V_flush_initial = V_flush_uL\n",
    "print(V_flush_initial)"
   ]
  },
  {
   "cell_type": "markdown",
   "id": "75106c19",
   "metadata": {},
   "source": [
    "Now define a function \"flush()\" to flush the piping system. It takes three parameters: flush_volume_0 (volume to flush from syringe 1), flush_volume_1 (volume to flush from syringe 2), and flush_time (time duration for flushing).\n",
    "\n",
    "\n",
    "\n"
   ]
  },
  {
   "cell_type": "code",
   "execution_count": null,
   "id": "bbda532c",
   "metadata": {},
   "outputs": [],
   "source": [
    "def flush(flush_volume_0, flush_volume_1, flush_time): #flushes syringe 1 & 2\n",
    "    #minki made flush_time = 3*flush_volume (around 20s)\n",
    "    \n",
    "    #calculation of rate of flush\n",
    "    rate_flush_0 = 60 * (flush_volume_0 / flush_time)\n",
    "    rate_flush_1 = 60 * (flush_volume_1 / flush_time)\n",
    "    \n",
    "    #flush the piping\n",
    "    single_pump(sy_dia, res_vol, 0, rate_flush_0, flush_volume_0)\n",
    "    time.sleep(0.1)\n",
    "\n",
    "    single_pump(sy_dia, res_vol, 1, rate_flush_1, flush_volume_1)\n",
    "    time.sleep(0.1)"
   ]
  },
  {
   "cell_type": "markdown",
   "id": "036d729d",
   "metadata": {},
   "source": [
    "Excecute the initial flushing through pipes"
   ]
  },
  {
   "cell_type": "code",
   "execution_count": null,
   "id": "8ce4102e",
   "metadata": {},
   "outputs": [],
   "source": [
    "#Initial flsh through pipes\n",
    "move_to(syringe_position_x,syringe_position_y)\n",
    "time.sleep(0.2)\n",
    "flush(V_flush_initial, V_flush_initial, 10) #is time good?\n",
    "time.sleep(0.2)"
   ]
  },
  {
   "cell_type": "markdown",
   "id": "3945b294",
   "metadata": {},
   "source": [
    "**Setup the Dropcast Loop**"
   ]
  },
  {
   "cell_type": "markdown",
   "id": "4a202651",
   "metadata": {},
   "source": [
    "This code is the core of dropcasting process, which includes depositing a droplet onto the substrate, waiting for evaporation, moving to the camera position for image analysis, and making any necessary optimizations or adjustments for the next set of parameters."
   ]
  },
  {
   "cell_type": "markdown",
   "id": "72bfa246",
   "metadata": {},
   "source": [
    "Droplet Volume and Flow rate is calculated based on this:\n",
    "\n",
    "V = Q * t\n",
    "\n",
    "\tVolume to be dispensed = V_d\n",
    "\tDispense time = t_d\n",
    "\tDispense Rate = Q_d\n",
    "\t\n",
    "\tV_d = V_0 + V_1 \n",
    "\n",
    "\tV_d = Q_d *  t_d = (Q_0 + Q_1) * t_d\n",
    "\n",
    "\tTWO SYRINGES:\n",
    "\n",
    "p = percentage of fluid one; (1-p) percentage of other fluid\n",
    "\n",
    "\tV_d = V_0 + V_1 = pV_d - (1-p)V_d\n",
    "\tV_0 = (p)V_d\n",
    "\tV_1 = (1-p)V_d \n",
    "\"p\" represents the concentration of NP, which is considered as an AE parameter"
   ]
  },
  {
   "cell_type": "code",
   "execution_count": null,
   "id": "7a2b7dd2",
   "metadata": {},
   "outputs": [],
   "source": [
    "#AE parameters \n",
    "file_path = \"image\"\n",
    "p = [0.4,0.2]    "
   ]
  },
  {
   "cell_type": "markdown",
   "id": "a2e1f0a1",
   "metadata": {},
   "source": [
    "The dropcast loop iterates until all the droplets have been deposited\n",
    "\n",
    "For each iteration:\n",
    "\n",
    "1. It calculates the location of each droplet based on a predetermined pattern (in this case, two droplets per row)\n",
    "2. It calculates the volume and infusion rate for each droplet based on predefined parameters and print the values\n",
    "3. It moves the syringe to the location of the droplet and starts pumping the calculated volumes\n",
    "4. It allows for some time for droplet evaporation\n",
    "5. It moves the syringe to the camera location, captures an image, and performs image processing\n",
    "6. It performs any necessary optimizations or adjustments\n",
    "\n",
    "Finally loop ends after processing all droplets\n",
    "\n",
    "Note: Flush setup can also be used in the loop to clear the piping for a fresh droplet, but in this instance, it is not necessary."
   ]
  },
  {
   "cell_type": "code",
   "execution_count": null,
   "id": "78b532d5",
   "metadata": {},
   "outputs": [],
   "source": [
    "# Dropcasting Loop\n",
    "for i in range(len(p)):\n",
    "    # Print current iteration\n",
    "    print(f'iteration {i+1}')\n",
    "    time.sleep(0.2)\n",
    "    \n",
    "    # Find location of each droplet in iteration\n",
    "    n = 2  # number of droplets per row\n",
    "    a, b = divmod(i, n)  # Calculate row and column indices\n",
    "    print(a, b)\n",
    "    \n",
    "    #flush is to the right\n",
    "    position_x = str(float(syringe_position_x)-(sample_distance*int(b)))\n",
    "    position_y = str(float(syringe_position_y)-(sample_distance*int(a)))\n",
    "    print(f'droplet center:{position_x,position_y}')\n",
    "    \n",
    "    # Calculate droplet volumes based on a predefined ratio\n",
    "    V_0 = p[i] * V_d  # Volume for droplet 0\n",
    "    V_1 = (1 - p[i]) * V_d  # Volume for droplet 1\n",
    "    \n",
    "    # Calculate infusion rates for each droplet\n",
    "    Q_0 = 60 * (V_0 / t_d)  # Infusion rate for droplet 0\n",
    "    Q_1 = 60 * (V_1 / t_d)  # Infusion rate for droplet 1\n",
    "    \n",
    "    print(f'droplet volume: {V_0, V_1}')\n",
    "    \n",
    "    # Move to the location of droplet i and start pumping\n",
    "    move_to(position_x, position_y)\n",
    "    single_pump(sy_dia, res_vol, 0, Q_0, V_0)  # Pump for droplet 0\n",
    "    time.sleep(0.2)\n",
    "    single_pump(sy_dia, res_vol, 1, Q_1, V_1)  # Pump for droplet 1\n",
    "    time.sleep(0.2)\n",
    "    \n",
    "    # Allow droplet evaporation\n",
    "    time.sleep(e_t)\n",
    "    time.sleep(20)\n",
    "    \n",
    "    # Move to the camera location and capture an image\n",
    "    #position_x = str(float(camera_position_x) - (sample_distance * int(b)) - flush_d)\n",
    "    #position_y = str(float(camera_position_y) + (sample_distance * int(a)))\n",
    "    #move_to(position_x, position_y)\n",
    "    #time.sleep(0.2)\n",
    "    #time.sleep(10)\n",
    "    # Capture and save image\n",
    "    #time.sleep(0.2)\n",
    "    \n",
    "    # Image processing\n",
    "    \n",
    "    # Optimization\n",
    "    \n",
    "    # End of loop\n",
    "    print('end of loop')\n"
   ]
  },
  {
   "cell_type": "code",
   "execution_count": null,
   "id": "5e7059fd",
   "metadata": {},
   "outputs": [],
   "source": []
  }
 ],
 "metadata": {
  "kernelspec": {
   "display_name": "Python 3 (ipykernel)",
   "language": "python",
   "name": "python3"
  },
  "language_info": {
   "codemirror_mode": {
    "name": "ipython",
    "version": 3
   },
   "file_extension": ".py",
   "mimetype": "text/x-python",
   "name": "python",
   "nbconvert_exporter": "python",
   "pygments_lexer": "ipython3",
   "version": "3.11.3"
  }
 },
 "nbformat": 4,
 "nbformat_minor": 5
}
